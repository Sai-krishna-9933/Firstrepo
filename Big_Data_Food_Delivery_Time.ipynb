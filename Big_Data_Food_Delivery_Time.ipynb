{
  "cells": [
    {
      "cell_type": "markdown",
      "metadata": {
        "id": "view-in-github",
        "colab_type": "text"
      },
      "source": [
        "<a href=\"https://colab.research.google.com/github/Sai-krishna-9933/Firstrepo/blob/master/Big_Data_Food_Delivery_Time.ipynb\" target=\"_parent\"><img src=\"https://colab.research.google.com/assets/colab-badge.svg\" alt=\"Open In Colab\"/></a>"
      ]
    },
    {
      "cell_type": "code",
      "execution_count": null,
      "metadata": {
        "id": "_ZW3BStWI5tS"
      },
      "outputs": [],
      "source": [
        "#importing required libraries\n",
        "import warnings # To avoid deprecation erros in notebook\n",
        "warnings.filterwarnings('ignore')\n",
        "import re #For handling regular expressions\n",
        "import numpy as np #for handling multi dimensional arrays of data\n",
        "import pandas as pd #for handling structured data\n",
        "import matplotlib.pyplot as plt # for 2D plotting\n",
        "import seaborn as sns # for better visualizations\n",
        "#to plot all graphs in the notebook\n",
        "%matplotlib inline"
      ]
    },
    {
      "cell_type": "code",
      "execution_count": null,
      "metadata": {
        "id": "3t6DqLkEI5tT"
      },
      "outputs": [],
      "source": [
        "# Loading data and storing the data in a variable for future modifications\n",
        "df_train = pd.read_excel(\"/content/Data_Train.xlsx\")\n",
        "df_test = pd.read_excel(\"/content/Data_Test.xlsx\")"
      ]
    },
    {
      "cell_type": "code",
      "execution_count": null,
      "metadata": {
        "scrolled": false,
        "colab": {
          "base_uri": "https://localhost:8080/",
          "height": 327
        },
        "id": "tLXtVFXsI5tT",
        "outputId": "a0fd5b8e-2f4f-4701-c427-2a4a65e1b79c"
      },
      "outputs": [
        {
          "output_type": "execute_result",
          "data": {
            "text/plain": [
              "<pandas.io.formats.style.Styler at 0x7f770095cdc0>"
            ],
            "text/html": [
              "<style type=\"text/css\">\n",
              "#T_1aacf tr:hover {\n",
              "  background-color: yellow;\n",
              "}\n",
              "</style>\n",
              "<table id=\"T_1aacf\" class=\"dataframe\">\n",
              "  <thead>\n",
              "    <tr>\n",
              "      <th class=\"blank level0\" >&nbsp;</th>\n",
              "      <th id=\"T_1aacf_level0_col0\" class=\"col_heading level0 col0\" >Restaurant</th>\n",
              "      <th id=\"T_1aacf_level0_col1\" class=\"col_heading level0 col1\" >Location</th>\n",
              "      <th id=\"T_1aacf_level0_col2\" class=\"col_heading level0 col2\" >Cuisines</th>\n",
              "      <th id=\"T_1aacf_level0_col3\" class=\"col_heading level0 col3\" >Average_Cost</th>\n",
              "      <th id=\"T_1aacf_level0_col4\" class=\"col_heading level0 col4\" >Minimum_Order</th>\n",
              "      <th id=\"T_1aacf_level0_col5\" class=\"col_heading level0 col5\" >Rating</th>\n",
              "      <th id=\"T_1aacf_level0_col6\" class=\"col_heading level0 col6\" >Votes</th>\n",
              "      <th id=\"T_1aacf_level0_col7\" class=\"col_heading level0 col7\" >Reviews</th>\n",
              "      <th id=\"T_1aacf_level0_col8\" class=\"col_heading level0 col8\" >Delivery_Time</th>\n",
              "    </tr>\n",
              "  </thead>\n",
              "  <tbody>\n",
              "    <tr>\n",
              "      <th id=\"T_1aacf_level0_row0\" class=\"row_heading level0 row0\" >0</th>\n",
              "      <td id=\"T_1aacf_row0_col0\" class=\"data row0 col0\" >ID_6321</td>\n",
              "      <td id=\"T_1aacf_row0_col1\" class=\"data row0 col1\" >FTI College, Law College Road, Pune</td>\n",
              "      <td id=\"T_1aacf_row0_col2\" class=\"data row0 col2\" >Fast Food, Rolls, Burger, Salad, Wraps</td>\n",
              "      <td id=\"T_1aacf_row0_col3\" class=\"data row0 col3\" >₹200</td>\n",
              "      <td id=\"T_1aacf_row0_col4\" class=\"data row0 col4\" >₹50</td>\n",
              "      <td id=\"T_1aacf_row0_col5\" class=\"data row0 col5\" >3.5</td>\n",
              "      <td id=\"T_1aacf_row0_col6\" class=\"data row0 col6\" >12</td>\n",
              "      <td id=\"T_1aacf_row0_col7\" class=\"data row0 col7\" >4</td>\n",
              "      <td id=\"T_1aacf_row0_col8\" class=\"data row0 col8\" >30 minutes</td>\n",
              "    </tr>\n",
              "    <tr>\n",
              "      <th id=\"T_1aacf_level0_row1\" class=\"row_heading level0 row1\" >1</th>\n",
              "      <td id=\"T_1aacf_row1_col0\" class=\"data row1 col0\" >ID_2882</td>\n",
              "      <td id=\"T_1aacf_row1_col1\" class=\"data row1 col1\" >Sector 3, Marathalli</td>\n",
              "      <td id=\"T_1aacf_row1_col2\" class=\"data row1 col2\" >Ice Cream, Desserts</td>\n",
              "      <td id=\"T_1aacf_row1_col3\" class=\"data row1 col3\" >₹100</td>\n",
              "      <td id=\"T_1aacf_row1_col4\" class=\"data row1 col4\" >₹50</td>\n",
              "      <td id=\"T_1aacf_row1_col5\" class=\"data row1 col5\" >3.5</td>\n",
              "      <td id=\"T_1aacf_row1_col6\" class=\"data row1 col6\" >11</td>\n",
              "      <td id=\"T_1aacf_row1_col7\" class=\"data row1 col7\" >4</td>\n",
              "      <td id=\"T_1aacf_row1_col8\" class=\"data row1 col8\" >30 minutes</td>\n",
              "    </tr>\n",
              "    <tr>\n",
              "      <th id=\"T_1aacf_level0_row2\" class=\"row_heading level0 row2\" >2</th>\n",
              "      <td id=\"T_1aacf_row2_col0\" class=\"data row2 col0\" >ID_1595</td>\n",
              "      <td id=\"T_1aacf_row2_col1\" class=\"data row2 col1\" >Mumbai Central</td>\n",
              "      <td id=\"T_1aacf_row2_col2\" class=\"data row2 col2\" >Italian, Street Food, Fast Food</td>\n",
              "      <td id=\"T_1aacf_row2_col3\" class=\"data row2 col3\" >₹150</td>\n",
              "      <td id=\"T_1aacf_row2_col4\" class=\"data row2 col4\" >₹50</td>\n",
              "      <td id=\"T_1aacf_row2_col5\" class=\"data row2 col5\" >3.6</td>\n",
              "      <td id=\"T_1aacf_row2_col6\" class=\"data row2 col6\" >99</td>\n",
              "      <td id=\"T_1aacf_row2_col7\" class=\"data row2 col7\" >30</td>\n",
              "      <td id=\"T_1aacf_row2_col8\" class=\"data row2 col8\" >65 minutes</td>\n",
              "    </tr>\n",
              "    <tr>\n",
              "      <th id=\"T_1aacf_level0_row3\" class=\"row_heading level0 row3\" >3</th>\n",
              "      <td id=\"T_1aacf_row3_col0\" class=\"data row3 col0\" >ID_5929</td>\n",
              "      <td id=\"T_1aacf_row3_col1\" class=\"data row3 col1\" >Sector 1, Noida</td>\n",
              "      <td id=\"T_1aacf_row3_col2\" class=\"data row3 col2\" >Mughlai, North Indian, Chinese</td>\n",
              "      <td id=\"T_1aacf_row3_col3\" class=\"data row3 col3\" >₹250</td>\n",
              "      <td id=\"T_1aacf_row3_col4\" class=\"data row3 col4\" >₹99</td>\n",
              "      <td id=\"T_1aacf_row3_col5\" class=\"data row3 col5\" >3.7</td>\n",
              "      <td id=\"T_1aacf_row3_col6\" class=\"data row3 col6\" >176</td>\n",
              "      <td id=\"T_1aacf_row3_col7\" class=\"data row3 col7\" >95</td>\n",
              "      <td id=\"T_1aacf_row3_col8\" class=\"data row3 col8\" >30 minutes</td>\n",
              "    </tr>\n",
              "    <tr>\n",
              "      <th id=\"T_1aacf_level0_row4\" class=\"row_heading level0 row4\" >4</th>\n",
              "      <td id=\"T_1aacf_row4_col0\" class=\"data row4 col0\" >ID_6123</td>\n",
              "      <td id=\"T_1aacf_row4_col1\" class=\"data row4 col1\" >Rmz Centennial, I Gate, Whitefield</td>\n",
              "      <td id=\"T_1aacf_row4_col2\" class=\"data row4 col2\" >Cafe, Beverages</td>\n",
              "      <td id=\"T_1aacf_row4_col3\" class=\"data row4 col3\" >₹200</td>\n",
              "      <td id=\"T_1aacf_row4_col4\" class=\"data row4 col4\" >₹99</td>\n",
              "      <td id=\"T_1aacf_row4_col5\" class=\"data row4 col5\" >3.2</td>\n",
              "      <td id=\"T_1aacf_row4_col6\" class=\"data row4 col6\" >521</td>\n",
              "      <td id=\"T_1aacf_row4_col7\" class=\"data row4 col7\" >235</td>\n",
              "      <td id=\"T_1aacf_row4_col8\" class=\"data row4 col8\" >65 minutes</td>\n",
              "    </tr>\n",
              "  </tbody>\n",
              "</table>\n"
            ]
          },
          "metadata": {},
          "execution_count": 14
        }
      ],
      "source": [
        "#read train data\n",
        "\n",
        "df_train.head().style.set_table_styles([{'selector': 'tr:hover','props': [('background-color', 'yellow')]}])"
      ]
    },
    {
      "cell_type": "code",
      "execution_count": null,
      "metadata": {
        "colab": {
          "base_uri": "https://localhost:8080/",
          "height": 275
        },
        "id": "OrFvTIspI5tU",
        "outputId": "ae1c220d-1f45-4051-c280-8d00ab7385ea"
      },
      "outputs": [
        {
          "output_type": "execute_result",
          "data": {
            "text/plain": [
              "<pandas.io.formats.style.Styler at 0x7f770095ccd0>"
            ],
            "text/html": [
              "<style type=\"text/css\">\n",
              "#T_9efbe tr:hover {\n",
              "  background-color: yellow;\n",
              "}\n",
              "</style>\n",
              "<table id=\"T_9efbe\" class=\"dataframe\">\n",
              "  <thead>\n",
              "    <tr>\n",
              "      <th class=\"blank level0\" >&nbsp;</th>\n",
              "      <th id=\"T_9efbe_level0_col0\" class=\"col_heading level0 col0\" >Restaurant</th>\n",
              "      <th id=\"T_9efbe_level0_col1\" class=\"col_heading level0 col1\" >Location</th>\n",
              "      <th id=\"T_9efbe_level0_col2\" class=\"col_heading level0 col2\" >Cuisines</th>\n",
              "      <th id=\"T_9efbe_level0_col3\" class=\"col_heading level0 col3\" >Average_Cost</th>\n",
              "      <th id=\"T_9efbe_level0_col4\" class=\"col_heading level0 col4\" >Minimum_Order</th>\n",
              "      <th id=\"T_9efbe_level0_col5\" class=\"col_heading level0 col5\" >Rating</th>\n",
              "      <th id=\"T_9efbe_level0_col6\" class=\"col_heading level0 col6\" >Votes</th>\n",
              "      <th id=\"T_9efbe_level0_col7\" class=\"col_heading level0 col7\" >Reviews</th>\n",
              "    </tr>\n",
              "  </thead>\n",
              "  <tbody>\n",
              "    <tr>\n",
              "      <th id=\"T_9efbe_level0_row0\" class=\"row_heading level0 row0\" >0</th>\n",
              "      <td id=\"T_9efbe_row0_col0\" class=\"data row0 col0\" >ID_2842</td>\n",
              "      <td id=\"T_9efbe_row0_col1\" class=\"data row0 col1\" >Mico Layout, Stage 2, BTM Layout,Bangalore</td>\n",
              "      <td id=\"T_9efbe_row0_col2\" class=\"data row0 col2\" >North Indian, Chinese, Assamese</td>\n",
              "      <td id=\"T_9efbe_row0_col3\" class=\"data row0 col3\" >₹350</td>\n",
              "      <td id=\"T_9efbe_row0_col4\" class=\"data row0 col4\" >₹50</td>\n",
              "      <td id=\"T_9efbe_row0_col5\" class=\"data row0 col5\" >4.2</td>\n",
              "      <td id=\"T_9efbe_row0_col6\" class=\"data row0 col6\" >361</td>\n",
              "      <td id=\"T_9efbe_row0_col7\" class=\"data row0 col7\" >225</td>\n",
              "    </tr>\n",
              "    <tr>\n",
              "      <th id=\"T_9efbe_level0_row1\" class=\"row_heading level0 row1\" >1</th>\n",
              "      <td id=\"T_9efbe_row1_col0\" class=\"data row1 col0\" >ID_730</td>\n",
              "      <td id=\"T_9efbe_row1_col1\" class=\"data row1 col1\" >Mico Layout, Stage 2, BTM Layout,Bangalore</td>\n",
              "      <td id=\"T_9efbe_row1_col2\" class=\"data row1 col2\" >Biryani, Kebab</td>\n",
              "      <td id=\"T_9efbe_row1_col3\" class=\"data row1 col3\" >₹100</td>\n",
              "      <td id=\"T_9efbe_row1_col4\" class=\"data row1 col4\" >₹50</td>\n",
              "      <td id=\"T_9efbe_row1_col5\" class=\"data row1 col5\" >NEW</td>\n",
              "      <td id=\"T_9efbe_row1_col6\" class=\"data row1 col6\" >-</td>\n",
              "      <td id=\"T_9efbe_row1_col7\" class=\"data row1 col7\" >-</td>\n",
              "    </tr>\n",
              "    <tr>\n",
              "      <th id=\"T_9efbe_level0_row2\" class=\"row_heading level0 row2\" >2</th>\n",
              "      <td id=\"T_9efbe_row2_col0\" class=\"data row2 col0\" >ID_4620</td>\n",
              "      <td id=\"T_9efbe_row2_col1\" class=\"data row2 col1\" >Sector 1, Noida</td>\n",
              "      <td id=\"T_9efbe_row2_col2\" class=\"data row2 col2\" >Fast Food</td>\n",
              "      <td id=\"T_9efbe_row2_col3\" class=\"data row2 col3\" >₹100</td>\n",
              "      <td id=\"T_9efbe_row2_col4\" class=\"data row2 col4\" >₹50</td>\n",
              "      <td id=\"T_9efbe_row2_col5\" class=\"data row2 col5\" >3.6</td>\n",
              "      <td id=\"T_9efbe_row2_col6\" class=\"data row2 col6\" >36</td>\n",
              "      <td id=\"T_9efbe_row2_col7\" class=\"data row2 col7\" >16</td>\n",
              "    </tr>\n",
              "    <tr>\n",
              "      <th id=\"T_9efbe_level0_row3\" class=\"row_heading level0 row3\" >3</th>\n",
              "      <td id=\"T_9efbe_row3_col0\" class=\"data row3 col0\" >ID_5470</td>\n",
              "      <td id=\"T_9efbe_row3_col1\" class=\"data row3 col1\" >Babarpur, New Delhi, Delhi</td>\n",
              "      <td id=\"T_9efbe_row3_col2\" class=\"data row3 col2\" >Mithai, North Indian, Chinese, Fast Food, South Indian</td>\n",
              "      <td id=\"T_9efbe_row3_col3\" class=\"data row3 col3\" >₹200</td>\n",
              "      <td id=\"T_9efbe_row3_col4\" class=\"data row3 col4\" >₹50</td>\n",
              "      <td id=\"T_9efbe_row3_col5\" class=\"data row3 col5\" >3.6</td>\n",
              "      <td id=\"T_9efbe_row3_col6\" class=\"data row3 col6\" >66</td>\n",
              "      <td id=\"T_9efbe_row3_col7\" class=\"data row3 col7\" >33</td>\n",
              "    </tr>\n",
              "    <tr>\n",
              "      <th id=\"T_9efbe_level0_row4\" class=\"row_heading level0 row4\" >4</th>\n",
              "      <td id=\"T_9efbe_row4_col0\" class=\"data row4 col0\" >ID_3249</td>\n",
              "      <td id=\"T_9efbe_row4_col1\" class=\"data row4 col1\" >Sector 1, Noida</td>\n",
              "      <td id=\"T_9efbe_row4_col2\" class=\"data row4 col2\" >Chinese, Fast Food</td>\n",
              "      <td id=\"T_9efbe_row4_col3\" class=\"data row4 col3\" >₹150</td>\n",
              "      <td id=\"T_9efbe_row4_col4\" class=\"data row4 col4\" >₹50</td>\n",
              "      <td id=\"T_9efbe_row4_col5\" class=\"data row4 col5\" >2.9</td>\n",
              "      <td id=\"T_9efbe_row4_col6\" class=\"data row4 col6\" >38</td>\n",
              "      <td id=\"T_9efbe_row4_col7\" class=\"data row4 col7\" >14</td>\n",
              "    </tr>\n",
              "  </tbody>\n",
              "</table>\n"
            ]
          },
          "metadata": {},
          "execution_count": 15
        }
      ],
      "source": [
        "#read test data\n",
        "\n",
        "df_test.head().style.set_table_styles([{'selector': 'tr:hover','props': [('background-color', 'yellow')]}])"
      ]
    },
    {
      "cell_type": "code",
      "execution_count": null,
      "metadata": {
        "colab": {
          "base_uri": "https://localhost:8080/"
        },
        "id": "gtIXcK3ZI5tU",
        "outputId": "4e886e6f-bd78-433c-fb92-81ac188f673a"
      },
      "outputs": [
        {
          "output_type": "stream",
          "name": "stdout",
          "text": [
            "Number of rows in training dataset (11094, 9)\n",
            "Number of rows in prediction dataset (2774, 8)\n"
          ]
        }
      ],
      "source": [
        "#lets see shape of Trian and Test\n",
        "print(\"Number of rows in training dataset\",df_train.shape)\n",
        "print(\"Number of rows in prediction dataset\",df_test.shape)"
      ]
    },
    {
      "cell_type": "code",
      "execution_count": null,
      "metadata": {
        "colab": {
          "base_uri": "https://localhost:8080/"
        },
        "id": "_vahuRN6I5tU",
        "outputId": "5125924b-8736-4433-f0da-c4cce46a5b1a"
      },
      "outputs": [
        {
          "output_type": "execute_result",
          "data": {
            "text/plain": [
              "Index(['Restaurant', 'Location', 'Cuisines', 'Average_Cost', 'Minimum_Order',\n",
              "       'Rating', 'Votes', 'Reviews', 'Delivery_Time'],\n",
              "      dtype='object')"
            ]
          },
          "metadata": {},
          "execution_count": 17
        }
      ],
      "source": [
        "#take a look of train data columns\n",
        "df_train.columns"
      ]
    },
    {
      "cell_type": "code",
      "execution_count": null,
      "metadata": {
        "colab": {
          "base_uri": "https://localhost:8080/"
        },
        "id": "bk6JKA0AI5tV",
        "outputId": "ce2c6bd5-8bef-45d5-ba00-1695d1505ce3"
      },
      "outputs": [
        {
          "output_type": "stream",
          "name": "stdout",
          "text": [
            "<class 'pandas.core.frame.DataFrame'>\n",
            "RangeIndex: 11094 entries, 0 to 11093\n",
            "Data columns (total 9 columns):\n",
            " #   Column         Non-Null Count  Dtype \n",
            "---  ------         --------------  ----- \n",
            " 0   Restaurant     11094 non-null  object\n",
            " 1   Location       11094 non-null  object\n",
            " 2   Cuisines       11094 non-null  object\n",
            " 3   Average_Cost   11094 non-null  object\n",
            " 4   Minimum_Order  11094 non-null  object\n",
            " 5   Rating         11094 non-null  object\n",
            " 6   Votes          11094 non-null  object\n",
            " 7   Reviews        11094 non-null  object\n",
            " 8   Delivery_Time  11094 non-null  object\n",
            "dtypes: object(9)\n",
            "memory usage: 780.2+ KB\n"
          ]
        }
      ],
      "source": [
        "#info of Train data\n",
        "df_train.info()"
      ]
    },
    {
      "cell_type": "code",
      "execution_count": null,
      "metadata": {
        "colab": {
          "base_uri": "https://localhost:8080/"
        },
        "id": "6VPUke4-I5tV",
        "outputId": "c5bd711c-2de8-4388-ae9e-5f5a43f73759"
      },
      "outputs": [
        {
          "output_type": "execute_result",
          "data": {
            "text/plain": [
              "Restaurant       0\n",
              "Location         0\n",
              "Cuisines         0\n",
              "Average_Cost     0\n",
              "Minimum_Order    0\n",
              "Rating           0\n",
              "Votes            0\n",
              "Reviews          0\n",
              "Delivery_Time    0\n",
              "dtype: int64"
            ]
          },
          "metadata": {},
          "execution_count": 19
        }
      ],
      "source": [
        "#Check for null values in the dataset\n",
        "df_train.isnull().sum()"
      ]
    },
    {
      "cell_type": "code",
      "execution_count": null,
      "metadata": {
        "id": "IBdTJrTGI5tV",
        "outputId": "47473cee-61c5-4579-e3fb-e4c5786a0cef"
      },
      "outputs": [
        {
          "data": {
            "text/html": [
              "<div>\n",
              "<style scoped>\n",
              "    .dataframe tbody tr th:only-of-type {\n",
              "        vertical-align: middle;\n",
              "    }\n",
              "\n",
              "    .dataframe tbody tr th {\n",
              "        vertical-align: top;\n",
              "    }\n",
              "\n",
              "    .dataframe thead th {\n",
              "        text-align: right;\n",
              "    }\n",
              "</style>\n",
              "<table border=\"1\" class=\"dataframe\">\n",
              "  <thead>\n",
              "    <tr style=\"text-align: right;\">\n",
              "      <th></th>\n",
              "      <th>Restaurant</th>\n",
              "      <th>Location</th>\n",
              "      <th>Cuisines</th>\n",
              "      <th>Average_Cost</th>\n",
              "      <th>Minimum_Order</th>\n",
              "      <th>Rating</th>\n",
              "      <th>Votes</th>\n",
              "      <th>Reviews</th>\n",
              "      <th>Delivery_Time</th>\n",
              "    </tr>\n",
              "  </thead>\n",
              "  <tbody>\n",
              "    <tr>\n",
              "      <td>count</td>\n",
              "      <td>11094</td>\n",
              "      <td>11094</td>\n",
              "      <td>11094</td>\n",
              "      <td>11094</td>\n",
              "      <td>11094</td>\n",
              "      <td>11094</td>\n",
              "      <td>11094</td>\n",
              "      <td>11094</td>\n",
              "      <td>11094</td>\n",
              "    </tr>\n",
              "    <tr>\n",
              "      <td>unique</td>\n",
              "      <td>7480</td>\n",
              "      <td>35</td>\n",
              "      <td>2179</td>\n",
              "      <td>26</td>\n",
              "      <td>18</td>\n",
              "      <td>33</td>\n",
              "      <td>1103</td>\n",
              "      <td>761</td>\n",
              "      <td>7</td>\n",
              "    </tr>\n",
              "    <tr>\n",
              "      <td>top</td>\n",
              "      <td>ID_7184</td>\n",
              "      <td>Mico Layout, Stage 2, BTM Layout,Bangalore</td>\n",
              "      <td>North Indian</td>\n",
              "      <td>₹200</td>\n",
              "      <td>₹50</td>\n",
              "      <td>-</td>\n",
              "      <td>-</td>\n",
              "      <td>-</td>\n",
              "      <td>30 minutes</td>\n",
              "    </tr>\n",
              "    <tr>\n",
              "      <td>freq</td>\n",
              "      <td>22</td>\n",
              "      <td>947</td>\n",
              "      <td>850</td>\n",
              "      <td>3241</td>\n",
              "      <td>10118</td>\n",
              "      <td>1191</td>\n",
              "      <td>2074</td>\n",
              "      <td>2312</td>\n",
              "      <td>7406</td>\n",
              "    </tr>\n",
              "  </tbody>\n",
              "</table>\n",
              "</div>"
            ],
            "text/plain": [
              "       Restaurant                                    Location      Cuisines  \\\n",
              "count       11094                                       11094         11094   \n",
              "unique       7480                                          35          2179   \n",
              "top       ID_7184  Mico Layout, Stage 2, BTM Layout,Bangalore  North Indian   \n",
              "freq           22                                         947           850   \n",
              "\n",
              "       Average_Cost Minimum_Order Rating  Votes Reviews Delivery_Time  \n",
              "count         11094         11094  11094  11094   11094         11094  \n",
              "unique           26            18     33   1103     761             7  \n",
              "top            ₹200           ₹50      -      -       -    30 minutes  \n",
              "freq           3241         10118   1191   2074    2312          7406  "
            ]
          },
          "execution_count": 9,
          "metadata": {},
          "output_type": "execute_result"
        }
      ],
      "source": [
        "df_train.describe()"
      ]
    },
    {
      "cell_type": "code",
      "execution_count": null,
      "metadata": {
        "colab": {
          "base_uri": "https://localhost:8080/",
          "height": 189
        },
        "id": "GqJcQ-f7I5tV",
        "outputId": "16a1ea5d-b813-43b5-8ccf-7d54aae40723"
      },
      "outputs": [
        {
          "output_type": "execute_result",
          "data": {
            "text/plain": [
              "       Restaurant                   Location      Cuisines Average_Cost  \\\n",
              "count        2774                       2774          2774         2774   \n",
              "unique       2401                         35           881           19   \n",
              "top       ID_1209  D-Block, Sector 63, Noida  North Indian         ₹200   \n",
              "freq            8                        221           226          820   \n",
              "\n",
              "       Minimum_Order Rating Votes Reviews  \n",
              "count           2774   2774  2774    2774  \n",
              "unique             9     30   580     392  \n",
              "top              ₹50      -     -       -  \n",
              "freq            2556    305   542     593  "
            ],
            "text/html": [
              "\n",
              "  <div id=\"df-6df4590d-8d4c-4f9e-9837-6792e18783e0\">\n",
              "    <div class=\"colab-df-container\">\n",
              "      <div>\n",
              "<style scoped>\n",
              "    .dataframe tbody tr th:only-of-type {\n",
              "        vertical-align: middle;\n",
              "    }\n",
              "\n",
              "    .dataframe tbody tr th {\n",
              "        vertical-align: top;\n",
              "    }\n",
              "\n",
              "    .dataframe thead th {\n",
              "        text-align: right;\n",
              "    }\n",
              "</style>\n",
              "<table border=\"1\" class=\"dataframe\">\n",
              "  <thead>\n",
              "    <tr style=\"text-align: right;\">\n",
              "      <th></th>\n",
              "      <th>Restaurant</th>\n",
              "      <th>Location</th>\n",
              "      <th>Cuisines</th>\n",
              "      <th>Average_Cost</th>\n",
              "      <th>Minimum_Order</th>\n",
              "      <th>Rating</th>\n",
              "      <th>Votes</th>\n",
              "      <th>Reviews</th>\n",
              "    </tr>\n",
              "  </thead>\n",
              "  <tbody>\n",
              "    <tr>\n",
              "      <th>count</th>\n",
              "      <td>2774</td>\n",
              "      <td>2774</td>\n",
              "      <td>2774</td>\n",
              "      <td>2774</td>\n",
              "      <td>2774</td>\n",
              "      <td>2774</td>\n",
              "      <td>2774</td>\n",
              "      <td>2774</td>\n",
              "    </tr>\n",
              "    <tr>\n",
              "      <th>unique</th>\n",
              "      <td>2401</td>\n",
              "      <td>35</td>\n",
              "      <td>881</td>\n",
              "      <td>19</td>\n",
              "      <td>9</td>\n",
              "      <td>30</td>\n",
              "      <td>580</td>\n",
              "      <td>392</td>\n",
              "    </tr>\n",
              "    <tr>\n",
              "      <th>top</th>\n",
              "      <td>ID_1209</td>\n",
              "      <td>D-Block, Sector 63, Noida</td>\n",
              "      <td>North Indian</td>\n",
              "      <td>₹200</td>\n",
              "      <td>₹50</td>\n",
              "      <td>-</td>\n",
              "      <td>-</td>\n",
              "      <td>-</td>\n",
              "    </tr>\n",
              "    <tr>\n",
              "      <th>freq</th>\n",
              "      <td>8</td>\n",
              "      <td>221</td>\n",
              "      <td>226</td>\n",
              "      <td>820</td>\n",
              "      <td>2556</td>\n",
              "      <td>305</td>\n",
              "      <td>542</td>\n",
              "      <td>593</td>\n",
              "    </tr>\n",
              "  </tbody>\n",
              "</table>\n",
              "</div>\n",
              "      <button class=\"colab-df-convert\" onclick=\"convertToInteractive('df-6df4590d-8d4c-4f9e-9837-6792e18783e0')\"\n",
              "              title=\"Convert this dataframe to an interactive table.\"\n",
              "              style=\"display:none;\">\n",
              "        \n",
              "  <svg xmlns=\"http://www.w3.org/2000/svg\" height=\"24px\"viewBox=\"0 0 24 24\"\n",
              "       width=\"24px\">\n",
              "    <path d=\"M0 0h24v24H0V0z\" fill=\"none\"/>\n",
              "    <path d=\"M18.56 5.44l.94 2.06.94-2.06 2.06-.94-2.06-.94-.94-2.06-.94 2.06-2.06.94zm-11 1L8.5 8.5l.94-2.06 2.06-.94-2.06-.94L8.5 2.5l-.94 2.06-2.06.94zm10 10l.94 2.06.94-2.06 2.06-.94-2.06-.94-.94-2.06-.94 2.06-2.06.94z\"/><path d=\"M17.41 7.96l-1.37-1.37c-.4-.4-.92-.59-1.43-.59-.52 0-1.04.2-1.43.59L10.3 9.45l-7.72 7.72c-.78.78-.78 2.05 0 2.83L4 21.41c.39.39.9.59 1.41.59.51 0 1.02-.2 1.41-.59l7.78-7.78 2.81-2.81c.8-.78.8-2.07 0-2.86zM5.41 20L4 18.59l7.72-7.72 1.47 1.35L5.41 20z\"/>\n",
              "  </svg>\n",
              "      </button>\n",
              "      \n",
              "  <style>\n",
              "    .colab-df-container {\n",
              "      display:flex;\n",
              "      flex-wrap:wrap;\n",
              "      gap: 12px;\n",
              "    }\n",
              "\n",
              "    .colab-df-convert {\n",
              "      background-color: #E8F0FE;\n",
              "      border: none;\n",
              "      border-radius: 50%;\n",
              "      cursor: pointer;\n",
              "      display: none;\n",
              "      fill: #1967D2;\n",
              "      height: 32px;\n",
              "      padding: 0 0 0 0;\n",
              "      width: 32px;\n",
              "    }\n",
              "\n",
              "    .colab-df-convert:hover {\n",
              "      background-color: #E2EBFA;\n",
              "      box-shadow: 0px 1px 2px rgba(60, 64, 67, 0.3), 0px 1px 3px 1px rgba(60, 64, 67, 0.15);\n",
              "      fill: #174EA6;\n",
              "    }\n",
              "\n",
              "    [theme=dark] .colab-df-convert {\n",
              "      background-color: #3B4455;\n",
              "      fill: #D2E3FC;\n",
              "    }\n",
              "\n",
              "    [theme=dark] .colab-df-convert:hover {\n",
              "      background-color: #434B5C;\n",
              "      box-shadow: 0px 1px 3px 1px rgba(0, 0, 0, 0.15);\n",
              "      filter: drop-shadow(0px 1px 2px rgba(0, 0, 0, 0.3));\n",
              "      fill: #FFFFFF;\n",
              "    }\n",
              "  </style>\n",
              "\n",
              "      <script>\n",
              "        const buttonEl =\n",
              "          document.querySelector('#df-6df4590d-8d4c-4f9e-9837-6792e18783e0 button.colab-df-convert');\n",
              "        buttonEl.style.display =\n",
              "          google.colab.kernel.accessAllowed ? 'block' : 'none';\n",
              "\n",
              "        async function convertToInteractive(key) {\n",
              "          const element = document.querySelector('#df-6df4590d-8d4c-4f9e-9837-6792e18783e0');\n",
              "          const dataTable =\n",
              "            await google.colab.kernel.invokeFunction('convertToInteractive',\n",
              "                                                     [key], {});\n",
              "          if (!dataTable) return;\n",
              "\n",
              "          const docLinkHtml = 'Like what you see? Visit the ' +\n",
              "            '<a target=\"_blank\" href=https://colab.research.google.com/notebooks/data_table.ipynb>data table notebook</a>'\n",
              "            + ' to learn more about interactive tables.';\n",
              "          element.innerHTML = '';\n",
              "          dataTable['output_type'] = 'display_data';\n",
              "          await google.colab.output.renderOutput(dataTable, element);\n",
              "          const docLink = document.createElement('div');\n",
              "          docLink.innerHTML = docLinkHtml;\n",
              "          element.appendChild(docLink);\n",
              "        }\n",
              "      </script>\n",
              "    </div>\n",
              "  </div>\n",
              "  "
            ]
          },
          "metadata": {},
          "execution_count": 20
        }
      ],
      "source": [
        "df_test.describe()"
      ]
    },
    {
      "cell_type": "code",
      "execution_count": null,
      "metadata": {
        "scrolled": true,
        "colab": {
          "base_uri": "https://localhost:8080/"
        },
        "id": "TcvNYck1I5tV",
        "outputId": "59befacd-3314-44c0-dd99-73b5535a863a"
      },
      "outputs": [
        {
          "output_type": "stream",
          "name": "stdout",
          "text": [
            "Train set:\n",
            " Mico Layout, Stage 2, BTM Layout,Bangalore          947\n",
            "D-Block, Sector 63, Noida                           806\n",
            "Sector 1, Noida                                     791\n",
            "FTI College, Law College Road, Pune                 584\n",
            "Delhi University-GTB Nagar                          545\n",
            "Laxman Vihar Industrial Area, Sector 3A, Gurgoan    493\n",
            "Sector 14, Noida                                    489\n",
            "Delhi Administration Flats, Timarpur                472\n",
            "Mumbai Central                                      459\n",
            "Rmz Centennial, I Gate, Whitefield                  457\n",
            "Delhi High Court, India Gate                        411\n",
            "MG Road, Pune                                       402\n",
            "Nathan Road, Mangaldas Road, Pune                   372\n",
            "Sandhurst Road, Mumbai CST Area                     370\n",
            "Sector 3, Marathalli                                366\n",
            "Majestic                                            334\n",
            "Delhi Cantt.                                        326\n",
            "Yerawada, Pune, Maharashtra                         307\n",
            "Dockyard Road, Mumbai CST Area                      291\n",
            "Babarpur, New Delhi, Delhi                          282\n",
            "Pune University                                     278\n",
            "Sector 63A,Gurgaon                                  260\n",
            "Moulali, Kolkata                                    137\n",
            "Chandni Chowk, Kolkata                              126\n",
            "Tejas Nagar Colony, Wadala West, Mumbai             109\n",
            "Raja Bazar, Kolkata                                 108\n",
            "Tiretti, Kolkata                                     96\n",
            "Hyderabad Public School, Begumpet                    81\n",
            "Gora Bazar, Rajbari, North Dumdum, Kolkata           79\n",
            "Noorkhan Bazaar, Malakpet, Hyderabad                 68\n",
            "Musi Nagar, Malakpet, Hyderabad                      68\n",
            "Panjetan Colony, Malakpet, Hyderabad                 56\n",
            "Chatta Bazaar, Malakpet, Hyderabad                   54\n",
            "Jaya Nagar, Saidabad, Hyderabad                      48\n",
            "BTM Layout 1, Electronic City                        22\n",
            "Name: Location, dtype: int64\n",
            "###########################################################################\n",
            "\n",
            "Prediction set:\n",
            " D-Block, Sector 63, Noida                           221\n",
            "Mico Layout, Stage 2, BTM Layout,Bangalore          211\n",
            "Sector 1, Noida                                     199\n",
            "Delhi University-GTB Nagar                          154\n",
            "FTI College, Law College Road, Pune                 150\n",
            "Sector 14, Noida                                    141\n",
            "Delhi Administration Flats, Timarpur                130\n",
            "Rmz Centennial, I Gate, Whitefield                  128\n",
            "Mumbai Central                                      119\n",
            "Laxman Vihar Industrial Area, Sector 3A, Gurgoan    118\n",
            "MG Road, Pune                                       107\n",
            "Nathan Road, Mangaldas Road, Pune                   104\n",
            "Sandhurst Road, Mumbai CST Area                      93\n",
            "Delhi High Court, India Gate                         93\n",
            "Sector 3, Marathalli                                 78\n",
            "Majestic                                             77\n",
            "Yerawada, Pune, Maharashtra                          72\n",
            "Delhi Cantt.                                         71\n",
            "Dockyard Road, Mumbai CST Area                       71\n",
            "Pune University                                      66\n",
            "Sector 63A,Gurgaon                                   63\n",
            "Babarpur, New Delhi, Delhi                           55\n",
            "Moulali, Kolkata                                     36\n",
            "Chandni Chowk, Kolkata                               30\n",
            "Raja Bazar, Kolkata                                  30\n",
            "Tejas Nagar Colony, Wadala West, Mumbai              24\n",
            "Musi Nagar, Malakpet, Hyderabad                      23\n",
            "Tiretti, Kolkata                                     20\n",
            "Panjetan Colony, Malakpet, Hyderabad                 17\n",
            "Gora Bazar, Rajbari, North Dumdum, Kolkata           16\n",
            "Chatta Bazaar, Malakpet, Hyderabad                   13\n",
            "Jaya Nagar, Saidabad, Hyderabad                      13\n",
            "Hyderabad Public School, Begumpet                    12\n",
            "Noorkhan Bazaar, Malakpet, Hyderabad                 11\n",
            "BTM Layout 1, Electronic City                         8\n",
            "Name: Location, dtype: int64\n"
          ]
        }
      ],
      "source": [
        "#Location data of Train and Test sets\n",
        "print(\"Train set:\\n\",df_train[\"Location\"].value_counts())\n",
        "print(\"#\"*75)\n",
        "print(\"\\nPrediction set:\\n\",df_test[\"Location\"].value_counts())"
      ]
    },
    {
      "cell_type": "code",
      "execution_count": null,
      "metadata": {
        "scrolled": true,
        "colab": {
          "base_uri": "https://localhost:8080/",
          "height": 423
        },
        "id": "WHkAO-GsI5tW",
        "outputId": "99f281a4-a6e7-4a1f-c211-60ea5aedeb06"
      },
      "outputs": [
        {
          "output_type": "execute_result",
          "data": {
            "text/plain": [
              "                                              Cuisines\n",
              "North Indian                                       850\n",
              "North Indian, Chinese                              614\n",
              "Fast Food                                          434\n",
              "South Indian                                       270\n",
              "Chinese                                            245\n",
              "...                                                ...\n",
              "North Indian, Chinese, Mughlai, Hyderabadi           1\n",
              "Continental, Chinese, Italian, Burger, Salad         1\n",
              "Beverages, Coffee                                    1\n",
              "Ice Cream, Beverages, Pizza                          1\n",
              "Tibetan, Chinese, Continental, Momos                 1\n",
              "\n",
              "[2179 rows x 1 columns]"
            ],
            "text/html": [
              "\n",
              "  <div id=\"df-8e2fd89d-02e1-4adf-b966-09cb4bc6cd21\">\n",
              "    <div class=\"colab-df-container\">\n",
              "      <div>\n",
              "<style scoped>\n",
              "    .dataframe tbody tr th:only-of-type {\n",
              "        vertical-align: middle;\n",
              "    }\n",
              "\n",
              "    .dataframe tbody tr th {\n",
              "        vertical-align: top;\n",
              "    }\n",
              "\n",
              "    .dataframe thead th {\n",
              "        text-align: right;\n",
              "    }\n",
              "</style>\n",
              "<table border=\"1\" class=\"dataframe\">\n",
              "  <thead>\n",
              "    <tr style=\"text-align: right;\">\n",
              "      <th></th>\n",
              "      <th>Cuisines</th>\n",
              "    </tr>\n",
              "  </thead>\n",
              "  <tbody>\n",
              "    <tr>\n",
              "      <th>North Indian</th>\n",
              "      <td>850</td>\n",
              "    </tr>\n",
              "    <tr>\n",
              "      <th>North Indian, Chinese</th>\n",
              "      <td>614</td>\n",
              "    </tr>\n",
              "    <tr>\n",
              "      <th>Fast Food</th>\n",
              "      <td>434</td>\n",
              "    </tr>\n",
              "    <tr>\n",
              "      <th>South Indian</th>\n",
              "      <td>270</td>\n",
              "    </tr>\n",
              "    <tr>\n",
              "      <th>Chinese</th>\n",
              "      <td>245</td>\n",
              "    </tr>\n",
              "    <tr>\n",
              "      <th>...</th>\n",
              "      <td>...</td>\n",
              "    </tr>\n",
              "    <tr>\n",
              "      <th>North Indian, Chinese, Mughlai, Hyderabadi</th>\n",
              "      <td>1</td>\n",
              "    </tr>\n",
              "    <tr>\n",
              "      <th>Continental, Chinese, Italian, Burger, Salad</th>\n",
              "      <td>1</td>\n",
              "    </tr>\n",
              "    <tr>\n",
              "      <th>Beverages, Coffee</th>\n",
              "      <td>1</td>\n",
              "    </tr>\n",
              "    <tr>\n",
              "      <th>Ice Cream, Beverages, Pizza</th>\n",
              "      <td>1</td>\n",
              "    </tr>\n",
              "    <tr>\n",
              "      <th>Tibetan, Chinese, Continental, Momos</th>\n",
              "      <td>1</td>\n",
              "    </tr>\n",
              "  </tbody>\n",
              "</table>\n",
              "<p>2179 rows × 1 columns</p>\n",
              "</div>\n",
              "      <button class=\"colab-df-convert\" onclick=\"convertToInteractive('df-8e2fd89d-02e1-4adf-b966-09cb4bc6cd21')\"\n",
              "              title=\"Convert this dataframe to an interactive table.\"\n",
              "              style=\"display:none;\">\n",
              "        \n",
              "  <svg xmlns=\"http://www.w3.org/2000/svg\" height=\"24px\"viewBox=\"0 0 24 24\"\n",
              "       width=\"24px\">\n",
              "    <path d=\"M0 0h24v24H0V0z\" fill=\"none\"/>\n",
              "    <path d=\"M18.56 5.44l.94 2.06.94-2.06 2.06-.94-2.06-.94-.94-2.06-.94 2.06-2.06.94zm-11 1L8.5 8.5l.94-2.06 2.06-.94-2.06-.94L8.5 2.5l-.94 2.06-2.06.94zm10 10l.94 2.06.94-2.06 2.06-.94-2.06-.94-.94-2.06-.94 2.06-2.06.94z\"/><path d=\"M17.41 7.96l-1.37-1.37c-.4-.4-.92-.59-1.43-.59-.52 0-1.04.2-1.43.59L10.3 9.45l-7.72 7.72c-.78.78-.78 2.05 0 2.83L4 21.41c.39.39.9.59 1.41.59.51 0 1.02-.2 1.41-.59l7.78-7.78 2.81-2.81c.8-.78.8-2.07 0-2.86zM5.41 20L4 18.59l7.72-7.72 1.47 1.35L5.41 20z\"/>\n",
              "  </svg>\n",
              "      </button>\n",
              "      \n",
              "  <style>\n",
              "    .colab-df-container {\n",
              "      display:flex;\n",
              "      flex-wrap:wrap;\n",
              "      gap: 12px;\n",
              "    }\n",
              "\n",
              "    .colab-df-convert {\n",
              "      background-color: #E8F0FE;\n",
              "      border: none;\n",
              "      border-radius: 50%;\n",
              "      cursor: pointer;\n",
              "      display: none;\n",
              "      fill: #1967D2;\n",
              "      height: 32px;\n",
              "      padding: 0 0 0 0;\n",
              "      width: 32px;\n",
              "    }\n",
              "\n",
              "    .colab-df-convert:hover {\n",
              "      background-color: #E2EBFA;\n",
              "      box-shadow: 0px 1px 2px rgba(60, 64, 67, 0.3), 0px 1px 3px 1px rgba(60, 64, 67, 0.15);\n",
              "      fill: #174EA6;\n",
              "    }\n",
              "\n",
              "    [theme=dark] .colab-df-convert {\n",
              "      background-color: #3B4455;\n",
              "      fill: #D2E3FC;\n",
              "    }\n",
              "\n",
              "    [theme=dark] .colab-df-convert:hover {\n",
              "      background-color: #434B5C;\n",
              "      box-shadow: 0px 1px 3px 1px rgba(0, 0, 0, 0.15);\n",
              "      filter: drop-shadow(0px 1px 2px rgba(0, 0, 0, 0.3));\n",
              "      fill: #FFFFFF;\n",
              "    }\n",
              "  </style>\n",
              "\n",
              "      <script>\n",
              "        const buttonEl =\n",
              "          document.querySelector('#df-8e2fd89d-02e1-4adf-b966-09cb4bc6cd21 button.colab-df-convert');\n",
              "        buttonEl.style.display =\n",
              "          google.colab.kernel.accessAllowed ? 'block' : 'none';\n",
              "\n",
              "        async function convertToInteractive(key) {\n",
              "          const element = document.querySelector('#df-8e2fd89d-02e1-4adf-b966-09cb4bc6cd21');\n",
              "          const dataTable =\n",
              "            await google.colab.kernel.invokeFunction('convertToInteractive',\n",
              "                                                     [key], {});\n",
              "          if (!dataTable) return;\n",
              "\n",
              "          const docLinkHtml = 'Like what you see? Visit the ' +\n",
              "            '<a target=\"_blank\" href=https://colab.research.google.com/notebooks/data_table.ipynb>data table notebook</a>'\n",
              "            + ' to learn more about interactive tables.';\n",
              "          element.innerHTML = '';\n",
              "          dataTable['output_type'] = 'display_data';\n",
              "          await google.colab.output.renderOutput(dataTable, element);\n",
              "          const docLink = document.createElement('div');\n",
              "          docLink.innerHTML = docLinkHtml;\n",
              "          element.appendChild(docLink);\n",
              "        }\n",
              "      </script>\n",
              "    </div>\n",
              "  </div>\n",
              "  "
            ]
          },
          "metadata": {},
          "execution_count": 22
        }
      ],
      "source": [
        "##Cuisines data of Trainset\n",
        "\n",
        "pd.options.display.max_rows = 50  \n",
        "pd.DataFrame(df_train[\"Cuisines\"].value_counts())"
      ]
    },
    {
      "cell_type": "code",
      "execution_count": null,
      "metadata": {
        "colab": {
          "base_uri": "https://localhost:8080/"
        },
        "id": "_8VJAKpAI5tW",
        "outputId": "3cf34017-9be3-49d8-9f4a-b5f08bc83bc8"
      },
      "outputs": [
        {
          "output_type": "execute_result",
          "data": {
            "text/plain": [
              "Index(['Restaurant', 'Location', 'Cuisines', 'Average_Cost', 'Minimum_Order',\n",
              "       'Rating', 'Votes', 'Reviews', 'Delivery_Time'],\n",
              "      dtype='object')"
            ]
          },
          "metadata": {},
          "execution_count": 23
        }
      ],
      "source": [
        "df_train.keys()"
      ]
    },
    {
      "cell_type": "code",
      "execution_count": null,
      "metadata": {
        "colab": {
          "base_uri": "https://localhost:8080/"
        },
        "id": "K8f4l6xGI5tW",
        "outputId": "5b30c3d8-5121-442d-83ec-90000ba153e0"
      },
      "outputs": [
        {
          "output_type": "execute_result",
          "data": {
            "text/plain": [
              "Index(['Restaurant', 'Location', 'Cuisines', 'Average_Cost', 'Minimum_Order',\n",
              "       'Rating', 'Votes', 'Reviews'],\n",
              "      dtype='object')"
            ]
          },
          "metadata": {},
          "execution_count": 24
        }
      ],
      "source": [
        "df_test.keys()"
      ]
    },
    {
      "cell_type": "code",
      "execution_count": null,
      "metadata": {
        "colab": {
          "base_uri": "https://localhost:8080/"
        },
        "id": "6X2SW0Y6I5tW",
        "outputId": "8879c76f-4896-496b-ea55-16736af364d7"
      },
      "outputs": [
        {
          "output_type": "stream",
          "name": "stdout",
          "text": [
            "Train set:\n",
            "\n",
            " ₹200      3241\n",
            "₹100      2557\n",
            "₹150      2462\n",
            "₹250       881\n",
            "₹300       537\n",
            "₹350       283\n",
            "₹400       282\n",
            "₹50        265\n",
            "₹600       154\n",
            "₹500       101\n",
            "₹450        63\n",
            "₹550        60\n",
            "₹650        55\n",
            "₹800        44\n",
            "₹750        38\n",
            "₹900        15\n",
            "₹700        15\n",
            "₹1,000      12\n",
            "₹850        12\n",
            "₹1,200       8\n",
            "₹950         4\n",
            "₹1,150       1\n",
            "for          1\n",
            "₹1,100       1\n",
            "₹1,400       1\n",
            "₹2,050       1\n",
            "Name: Average_Cost, dtype: int64 \n",
            "\n",
            "###########################################################################\n",
            "\n",
            "Prediction set:\n",
            "\n",
            " ₹200      820\n",
            "₹100      664\n",
            "₹150      589\n",
            "₹250      223\n",
            "₹300      173\n",
            "₹50        72\n",
            "₹350       71\n",
            "₹400       64\n",
            "₹600       30\n",
            "₹500       15\n",
            "₹550       13\n",
            "₹450        9\n",
            "₹650        8\n",
            "₹800        6\n",
            "₹850        4\n",
            "₹1,000      4\n",
            "₹700        4\n",
            "₹750        3\n",
            "₹1,200      2\n",
            "Name: Average_Cost, dtype: int64\n"
          ]
        }
      ],
      "source": [
        "##Average_Cost data of Train and Test sets\n",
        "\n",
        "print(\"Train set:\\n\\n\",df_train[\"Average_Cost\"].value_counts(),'\\n')\n",
        "print(\"#\"*75)\n",
        "print(\"\\nPrediction set:\\n\\n\",df_test[\"Average_Cost\"].value_counts())"
      ]
    },
    {
      "cell_type": "code",
      "execution_count": null,
      "metadata": {
        "colab": {
          "base_uri": "https://localhost:8080/"
        },
        "id": "zMbtVPA_I5tW",
        "outputId": "57e48c86-1a32-490f-a618-0f04e07ae756"
      },
      "outputs": [
        {
          "output_type": "stream",
          "name": "stdout",
          "text": [
            "Train set:\n",
            " 200     3241\n",
            "100     2557\n",
            "150     2462\n",
            "250      881\n",
            "300      537\n",
            "350      283\n",
            "400      282\n",
            "50       265\n",
            "600      154\n",
            "500      101\n",
            "450       63\n",
            "550       60\n",
            "650       55\n",
            "800       44\n",
            "750       38\n",
            "900       15\n",
            "700       15\n",
            "1000      12\n",
            "850       12\n",
            "1200       8\n",
            "950        4\n",
            "1150       1\n",
            "for        1\n",
            "1100       1\n",
            "1400       1\n",
            "2050       1\n",
            "Name: Average_Cost, dtype: int64 \n",
            "\n",
            "########################################################################### \n",
            "\n",
            "\n",
            "Prediction set: 200     820\n",
            "100     664\n",
            "150     589\n",
            "250     223\n",
            "300     173\n",
            "50       72\n",
            "350      71\n",
            "400      64\n",
            "600      30\n",
            "500      15\n",
            "550      13\n",
            "450       9\n",
            "650       8\n",
            "800       6\n",
            "850       4\n",
            "1000      4\n",
            "700       4\n",
            "750       3\n",
            "1200      2\n",
            "Name: Average_Cost, dtype: int64\n"
          ]
        }
      ],
      "source": [
        "###Cleaning Average_Cost data of Train and Test sets\n",
        "\n",
        "df_train.Average_Cost = df_train.Average_Cost.apply(lambda x: x.replace('₹',''))\n",
        "df_train.Average_Cost = df_train.Average_Cost.apply(lambda x: x.replace(',',''))\n",
        "\n",
        "print(\"Train set:\\n\",df_train.Average_Cost.value_counts(),'\\n')\n",
        "\n",
        "print(\"#\"*75,\"\\n\")\n",
        "\n",
        "df_test.Average_Cost = df_test.Average_Cost.apply(lambda x: x.replace('₹',''))\n",
        "df_test.Average_Cost = df_test.Average_Cost.apply(lambda x: x.replace(',',''))\n",
        "\n",
        "print(\"\\nPrediction set:\",df_test.Average_Cost.value_counts())"
      ]
    },
    {
      "cell_type": "code",
      "execution_count": null,
      "metadata": {
        "colab": {
          "base_uri": "https://localhost:8080/",
          "height": 124
        },
        "id": "8niqc0A1I5tX",
        "outputId": "7830f6b8-2763-44d3-8a1a-753d8ff4d11e"
      },
      "outputs": [
        {
          "output_type": "execute_result",
          "data": {
            "text/plain": [
              "     Restaurant         Location   Cuisines Average_Cost Minimum_Order Rating  \\\n",
              "6297    ID_6472  Pune University  Fast Food          for           ₹50    NEW   \n",
              "\n",
              "     Votes Reviews Delivery_Time  \n",
              "6297     -       -    30 minutes  "
            ],
            "text/html": [
              "\n",
              "  <div id=\"df-669c38a5-8ff1-4ef4-af9d-0c5bb6b8df59\">\n",
              "    <div class=\"colab-df-container\">\n",
              "      <div>\n",
              "<style scoped>\n",
              "    .dataframe tbody tr th:only-of-type {\n",
              "        vertical-align: middle;\n",
              "    }\n",
              "\n",
              "    .dataframe tbody tr th {\n",
              "        vertical-align: top;\n",
              "    }\n",
              "\n",
              "    .dataframe thead th {\n",
              "        text-align: right;\n",
              "    }\n",
              "</style>\n",
              "<table border=\"1\" class=\"dataframe\">\n",
              "  <thead>\n",
              "    <tr style=\"text-align: right;\">\n",
              "      <th></th>\n",
              "      <th>Restaurant</th>\n",
              "      <th>Location</th>\n",
              "      <th>Cuisines</th>\n",
              "      <th>Average_Cost</th>\n",
              "      <th>Minimum_Order</th>\n",
              "      <th>Rating</th>\n",
              "      <th>Votes</th>\n",
              "      <th>Reviews</th>\n",
              "      <th>Delivery_Time</th>\n",
              "    </tr>\n",
              "  </thead>\n",
              "  <tbody>\n",
              "    <tr>\n",
              "      <th>6297</th>\n",
              "      <td>ID_6472</td>\n",
              "      <td>Pune University</td>\n",
              "      <td>Fast Food</td>\n",
              "      <td>for</td>\n",
              "      <td>₹50</td>\n",
              "      <td>NEW</td>\n",
              "      <td>-</td>\n",
              "      <td>-</td>\n",
              "      <td>30 minutes</td>\n",
              "    </tr>\n",
              "  </tbody>\n",
              "</table>\n",
              "</div>\n",
              "      <button class=\"colab-df-convert\" onclick=\"convertToInteractive('df-669c38a5-8ff1-4ef4-af9d-0c5bb6b8df59')\"\n",
              "              title=\"Convert this dataframe to an interactive table.\"\n",
              "              style=\"display:none;\">\n",
              "        \n",
              "  <svg xmlns=\"http://www.w3.org/2000/svg\" height=\"24px\"viewBox=\"0 0 24 24\"\n",
              "       width=\"24px\">\n",
              "    <path d=\"M0 0h24v24H0V0z\" fill=\"none\"/>\n",
              "    <path d=\"M18.56 5.44l.94 2.06.94-2.06 2.06-.94-2.06-.94-.94-2.06-.94 2.06-2.06.94zm-11 1L8.5 8.5l.94-2.06 2.06-.94-2.06-.94L8.5 2.5l-.94 2.06-2.06.94zm10 10l.94 2.06.94-2.06 2.06-.94-2.06-.94-.94-2.06-.94 2.06-2.06.94z\"/><path d=\"M17.41 7.96l-1.37-1.37c-.4-.4-.92-.59-1.43-.59-.52 0-1.04.2-1.43.59L10.3 9.45l-7.72 7.72c-.78.78-.78 2.05 0 2.83L4 21.41c.39.39.9.59 1.41.59.51 0 1.02-.2 1.41-.59l7.78-7.78 2.81-2.81c.8-.78.8-2.07 0-2.86zM5.41 20L4 18.59l7.72-7.72 1.47 1.35L5.41 20z\"/>\n",
              "  </svg>\n",
              "      </button>\n",
              "      \n",
              "  <style>\n",
              "    .colab-df-container {\n",
              "      display:flex;\n",
              "      flex-wrap:wrap;\n",
              "      gap: 12px;\n",
              "    }\n",
              "\n",
              "    .colab-df-convert {\n",
              "      background-color: #E8F0FE;\n",
              "      border: none;\n",
              "      border-radius: 50%;\n",
              "      cursor: pointer;\n",
              "      display: none;\n",
              "      fill: #1967D2;\n",
              "      height: 32px;\n",
              "      padding: 0 0 0 0;\n",
              "      width: 32px;\n",
              "    }\n",
              "\n",
              "    .colab-df-convert:hover {\n",
              "      background-color: #E2EBFA;\n",
              "      box-shadow: 0px 1px 2px rgba(60, 64, 67, 0.3), 0px 1px 3px 1px rgba(60, 64, 67, 0.15);\n",
              "      fill: #174EA6;\n",
              "    }\n",
              "\n",
              "    [theme=dark] .colab-df-convert {\n",
              "      background-color: #3B4455;\n",
              "      fill: #D2E3FC;\n",
              "    }\n",
              "\n",
              "    [theme=dark] .colab-df-convert:hover {\n",
              "      background-color: #434B5C;\n",
              "      box-shadow: 0px 1px 3px 1px rgba(0, 0, 0, 0.15);\n",
              "      filter: drop-shadow(0px 1px 2px rgba(0, 0, 0, 0.3));\n",
              "      fill: #FFFFFF;\n",
              "    }\n",
              "  </style>\n",
              "\n",
              "      <script>\n",
              "        const buttonEl =\n",
              "          document.querySelector('#df-669c38a5-8ff1-4ef4-af9d-0c5bb6b8df59 button.colab-df-convert');\n",
              "        buttonEl.style.display =\n",
              "          google.colab.kernel.accessAllowed ? 'block' : 'none';\n",
              "\n",
              "        async function convertToInteractive(key) {\n",
              "          const element = document.querySelector('#df-669c38a5-8ff1-4ef4-af9d-0c5bb6b8df59');\n",
              "          const dataTable =\n",
              "            await google.colab.kernel.invokeFunction('convertToInteractive',\n",
              "                                                     [key], {});\n",
              "          if (!dataTable) return;\n",
              "\n",
              "          const docLinkHtml = 'Like what you see? Visit the ' +\n",
              "            '<a target=\"_blank\" href=https://colab.research.google.com/notebooks/data_table.ipynb>data table notebook</a>'\n",
              "            + ' to learn more about interactive tables.';\n",
              "          element.innerHTML = '';\n",
              "          dataTable['output_type'] = 'display_data';\n",
              "          await google.colab.output.renderOutput(dataTable, element);\n",
              "          const docLink = document.createElement('div');\n",
              "          docLink.innerHTML = docLinkHtml;\n",
              "          element.appendChild(docLink);\n",
              "        }\n",
              "      </script>\n",
              "    </div>\n",
              "  </div>\n",
              "  "
            ]
          },
          "metadata": {},
          "execution_count": 27
        }
      ],
      "source": [
        "df_train[df_train.Average_Cost == 'for']"
      ]
    },
    {
      "cell_type": "code",
      "execution_count": null,
      "metadata": {
        "id": "S8iDfLVrI5tX"
      },
      "outputs": [],
      "source": [
        "df_train.drop(df_train.loc[df_train.Average_Cost =='for'].index, inplace=True)"
      ]
    },
    {
      "cell_type": "code",
      "execution_count": null,
      "metadata": {
        "id": "cbYrK9hfI5tX"
      },
      "outputs": [],
      "source": [
        "df_train.Average_Cost      = df_train.Average_Cost.astype(np.int64)\n",
        "df_test.Average_Cost = df_test.Average_Cost.astype(np.int64)"
      ]
    },
    {
      "cell_type": "code",
      "execution_count": null,
      "metadata": {
        "scrolled": true,
        "colab": {
          "base_uri": "https://localhost:8080/",
          "height": 447
        },
        "id": "uG2WJS8BI5tX",
        "outputId": "d9fa5b64-12bf-46fd-eedc-7d6acaebb4ce"
      },
      "outputs": [
        {
          "output_type": "execute_result",
          "data": {
            "text/plain": [
              "<Axes: ylabel='Frequency'>"
            ]
          },
          "metadata": {},
          "execution_count": 31
        },
        {
          "output_type": "display_data",
          "data": {
            "text/plain": [
              "<Figure size 640x480 with 1 Axes>"
            ],
            "image/png": "[encoded data removed]"
          },
          "metadata": {}
        }
      ],
      "source": [
        "df_test.Average_Cost.plot.hist()"
      ]
    },
    {
      "cell_type": "code",
      "execution_count": null,
      "metadata": {
        "colab": {
          "base_uri": "https://localhost:8080/"
        },
        "id": "nr4b8-pwI5tX",
        "outputId": "f5dedc68-5b17-46af-8a53-9e0c2b44f927"
      },
      "outputs": [
        {
          "output_type": "stream",
          "name": "stdout",
          "text": [
            "Train set:\n",
            " ₹50     10117\n",
            "₹99       779\n",
            "₹0        158\n",
            "₹199        8\n",
            "₹200        8\n",
            "₹299        3\n",
            "₹59         3\n",
            "₹350        3\n",
            "₹79         2\n",
            "₹90         2\n",
            "₹450        2\n",
            "₹300        2\n",
            "₹400        1\n",
            "₹250        1\n",
            "₹150        1\n",
            "₹240        1\n",
            "₹89         1\n",
            "₹500        1\n",
            "Name: Minimum_Order, dtype: int64 \n",
            "\n",
            "###########################################################################\n",
            "\n",
            "Prediction set:\n",
            " ₹50     2556\n",
            "₹99      177\n",
            "₹0        30\n",
            "₹199       5\n",
            "₹200       2\n",
            "₹500       1\n",
            "₹149       1\n",
            "₹399       1\n",
            "₹89        1\n",
            "Name: Minimum_Order, dtype: int64\n"
          ]
        }
      ],
      "source": [
        "#Minimum_Order data of Train and Test sets\n",
        "\n",
        "print(\"Train set:\\n\",df_train.Minimum_Order.value_counts(), \"\\n\")\n",
        "print(\"#\"*75)\n",
        "print(\"\\nPrediction set:\\n\",df_test.Minimum_Order.value_counts())"
      ]
    },
    {
      "cell_type": "code",
      "execution_count": null,
      "metadata": {
        "colab": {
          "base_uri": "https://localhost:8080/"
        },
        "id": "rm565CpEI5tX",
        "outputId": "9600bc50-7c37-43af-ff4f-0e0e61c6981f"
      },
      "outputs": [
        {
          "output_type": "stream",
          "name": "stdout",
          "text": [
            "Train set:\n",
            " 50     10117\n",
            "99       779\n",
            "0        158\n",
            "199        8\n",
            "200        8\n",
            "299        3\n",
            "59         3\n",
            "350        3\n",
            "79         2\n",
            "90         2\n",
            "450        2\n",
            "300        2\n",
            "400        1\n",
            "250        1\n",
            "150        1\n",
            "240        1\n",
            "89         1\n",
            "500        1\n",
            "Name: Minimum_Order, dtype: int64 \n",
            "\n",
            "########################################################################### \n",
            "\n",
            "\n",
            "Prediction set: 50     2556\n",
            "99      177\n",
            "0        30\n",
            "199       5\n",
            "200       2\n",
            "500       1\n",
            "149       1\n",
            "399       1\n",
            "89        1\n",
            "Name: Minimum_Order, dtype: int64\n"
          ]
        }
      ],
      "source": [
        "#cleaning Minimum_Order data of Train and Test sets\n",
        "\n",
        "\n",
        "df_train.Minimum_Order = df_train.Minimum_Order.apply(lambda x: x.replace('₹','')).astype(np.int64)\n",
        "\n",
        "print(\"Train set:\\n\",df_train.Minimum_Order.value_counts(),\"\\n\")\n",
        "\n",
        "print(\"#\"*75,\"\\n\")\n",
        "\n",
        "df_test.Minimum_Order = df_test.Minimum_Order.apply(lambda x: x.replace('₹','')).astype(np.int64)\n",
        "\n",
        "print(\"\\nPrediction set:\",df_test.Minimum_Order.value_counts())"
      ]
    },
    {
      "cell_type": "markdown",
      "metadata": {
        "id": "LeD-dAJxI5tX"
      },
      "source": [
        "---\n",
        "- There no chance of Minimum order value can be Zero so we can impute with mean value \n",
        "---"
      ]
    },
    {
      "cell_type": "code",
      "execution_count": null,
      "metadata": {
        "id": "1lmejXPgI5tY"
      },
      "outputs": [],
      "source": [
        "##after cleaning Minimum_Order data of Train and Test sets converting them into int datatype\n",
        "\n",
        "df_train.Minimum_Order      = df_train.Minimum_Order.astype(np.int64)\n",
        "df_test.Minimum_Order = df_test.Minimum_Order.astype(np.int64)"
      ]
    },
    {
      "cell_type": "code",
      "execution_count": null,
      "metadata": {
        "colab": {
          "base_uri": "https://localhost:8080/"
        },
        "id": "QVNVOK5NI5tY",
        "outputId": "14da450d-9f58-48e6-864d-9d97c93c3bec"
      },
      "outputs": [
        {
          "output_type": "execute_result",
          "data": {
            "text/plain": [
              "53.344812043631116"
            ]
          },
          "metadata": {},
          "execution_count": 36
        }
      ],
      "source": [
        "df_train.Minimum_Order.mean()"
      ]
    },
    {
      "cell_type": "code",
      "execution_count": null,
      "metadata": {
        "id": "POADKJYbI5tY"
      },
      "outputs": [],
      "source": [
        "#Replace mean value in '0'value\n",
        "df_train.Minimum_Order = df_train.Minimum_Order.replace(0,53)"
      ]
    },
    {
      "cell_type": "code",
      "execution_count": null,
      "metadata": {
        "colab": {
          "base_uri": "https://localhost:8080/"
        },
        "id": "YilfrGqKI5tY",
        "outputId": "e5d22cf7-58a5-42a0-dd80-a02858db56d2"
      },
      "outputs": [
        {
          "output_type": "execute_result",
          "data": {
            "text/plain": [
              "53.30028839221341"
            ]
          },
          "metadata": {},
          "execution_count": 38
        }
      ],
      "source": [
        "df_test.Minimum_Order.mean()"
      ]
    },
    {
      "cell_type": "code",
      "execution_count": null,
      "metadata": {
        "id": "djMUFq76I5tY"
      },
      "outputs": [],
      "source": [
        "#Replace mean value in '0'value\n",
        "df_test.Minimum_Order = df_test.Minimum_Order.replace(0,53)"
      ]
    },
    {
      "cell_type": "code",
      "execution_count": null,
      "metadata": {
        "colab": {
          "base_uri": "https://localhost:8080/"
        },
        "id": "Yd6PieCQI5tY",
        "outputId": "c9dfa125-6c82-4e5d-e60a-56d17c7fdb2c"
      },
      "outputs": [
        {
          "output_type": "stream",
          "name": "stdout",
          "text": [
            "Train set:\n",
            " 50     10117\n",
            "99       779\n",
            "53       158\n",
            "199        8\n",
            "200        8\n",
            "299        3\n",
            "59         3\n",
            "350        3\n",
            "79         2\n",
            "90         2\n",
            "450        2\n",
            "300        2\n",
            "400        1\n",
            "250        1\n",
            "150        1\n",
            "240        1\n",
            "89         1\n",
            "500        1\n",
            "Name: Minimum_Order, dtype: int64 \n",
            "\n",
            "###########################################################################\n",
            "\n",
            "Prediction set:\n",
            " 50     2556\n",
            "99      177\n",
            "53       30\n",
            "199       5\n",
            "200       2\n",
            "500       1\n",
            "149       1\n",
            "399       1\n",
            "89        1\n",
            "Name: Minimum_Order, dtype: int64\n"
          ]
        }
      ],
      "source": [
        "#Minimum_Order data of Train and Test sets\n",
        "\n",
        "print(\"Train set:\\n\",df_train.Minimum_Order.value_counts(), \"\\n\")\n",
        "print(\"#\"*75)\n",
        "print(\"\\nPrediction set:\\n\",df_test.Minimum_Order.value_counts())"
      ]
    },
    {
      "cell_type": "code",
      "execution_count": null,
      "metadata": {
        "scrolled": true,
        "colab": {
          "base_uri": "https://localhost:8080/"
        },
        "id": "Y1U37iofI5tY",
        "outputId": "e4b93ef0-9c80-40c9-9bb7-a0371fa765ca"
      },
      "outputs": [
        {
          "output_type": "stream",
          "name": "stdout",
          "text": [
            "Train set:\n",
            " -                     1191\n",
            "3.7                    869\n",
            "3.6                    846\n",
            "3.5                    818\n",
            "3.8                    800\n",
            "NEW                    757\n",
            "3.9                    749\n",
            "3.4                    718\n",
            "3.3                    675\n",
            "4.0                    614\n",
            "3.2                    511\n",
            "4.1                    459\n",
            "3.1                    411\n",
            "3.0                    302\n",
            "4.2                    272\n",
            "4.3                    247\n",
            "2.9                    199\n",
            "2.8                    157\n",
            "4.4                    142\n",
            "4.5                     78\n",
            "2.7                     76\n",
            "2.6                     42\n",
            "4.6                     41\n",
            "4.7                     36\n",
            "2.5                     27\n",
            "2.4                     13\n",
            "4.8                     13\n",
            "Opening Soon            12\n",
            "4.9                      8\n",
            "2.3                      6\n",
            "Temporarily Closed       2\n",
            "2.2                      1\n",
            "2.1                      1\n",
            "Name: Rating, dtype: int64 \n",
            "\n",
            "########################################################################### \n",
            "\n",
            "\n",
            "Prediction set:\n",
            " -               305\n",
            "3.6             223\n",
            "3.9             216\n",
            "3.7             212\n",
            "NEW             200\n",
            "3.5             197\n",
            "3.4             185\n",
            "3.8             183\n",
            "3.3             153\n",
            "4.0             141\n",
            "3.2             129\n",
            "3.1             120\n",
            "4.1             115\n",
            "4.2              70\n",
            "3.0              65\n",
            "2.9              57\n",
            "4.3              52\n",
            "2.8              41\n",
            "4.4              29\n",
            "2.7              22\n",
            "4.5              18\n",
            "2.6               9\n",
            "4.6               7\n",
            "4.7               6\n",
            "2.5               6\n",
            "2.4               5\n",
            "4.8               3\n",
            "2.3               2\n",
            "Opening Soon      2\n",
            "2.1               1\n",
            "Name: Rating, dtype: int64\n"
          ]
        }
      ],
      "source": [
        "#Rating data of Train and Test sets\n",
        "\n",
        "print(\"Train set:\\n\",df_train.Rating.value_counts(), \"\\n\")\n",
        "\n",
        "print(\"#\"*75,\"\\n\")\n",
        "\n",
        "print(\"\\nPrediction set:\\n\",df_test.Rating.value_counts())"
      ]
    },
    {
      "cell_type": "code",
      "execution_count": null,
      "metadata": {
        "id": "Nfnx7pmKI5tY"
      },
      "outputs": [],
      "source": [
        "#so we have symbol \"-\", \"NEW\", \"Opening Soon\" and \"Temporarily Closed\" in Rating Columns\n",
        "#so i want to impute mean value in those \n",
        "\n",
        "df_train.Rating = df_train.Rating.replace('-',0)\n",
        "df_train.Rating = df_train.Rating.replace('NEW',0)\n",
        "df_train.Rating = df_train.Rating.replace('Opening Soon',0)\n",
        "df_train.Rating = df_train.Rating.replace('Temporarily Closed',0)"
      ]
    },
    {
      "cell_type": "code",
      "execution_count": null,
      "metadata": {
        "id": "AqejqJbVI5tY"
      },
      "outputs": [],
      "source": [
        "#Rating into float64 type\n",
        "df_train.Rating = df_train.Rating.astype(np.float64)"
      ]
    },
    {
      "cell_type": "code",
      "execution_count": null,
      "metadata": {
        "id": "Thjqbk9-I5tY",
        "outputId": "556915dd-c25d-45b1-9853-33a5b16ef042"
      },
      "outputs": [
        {
          "data": {
            "text/plain": [
              "2.9743531957090057"
            ]
          },
          "execution_count": 30,
          "metadata": {},
          "output_type": "execute_result"
        }
      ],
      "source": [
        "#mean of Rating\n",
        "df_train.Rating.mean()"
      ]
    },
    {
      "cell_type": "code",
      "execution_count": null,
      "metadata": {
        "id": "LpcswKnsI5tZ"
      },
      "outputs": [],
      "source": [
        "#Replace mean value in '0'value\n",
        "df_train.Rating = df_train.Rating.replace(0,2.9)"
      ]
    },
    {
      "cell_type": "code",
      "execution_count": null,
      "metadata": {
        "id": "lEUCVtt0I5tZ"
      },
      "outputs": [],
      "source": [
        "#so we have symbol \"-\", \"NEW\", \"Opening Soon\" in Rating Column od Test set\n",
        "#so i want to impute mean value in those \n",
        "\n",
        "df_test.Rating = df_test.Rating.replace('-',0)\n",
        "df_test.Rating = df_test.Rating.replace('NEW',0)\n",
        "df_test.Rating = df_test.Rating.replace('Opening Soon',0)"
      ]
    },
    {
      "cell_type": "code",
      "execution_count": null,
      "metadata": {
        "id": "j_uVdW63I5tZ"
      },
      "outputs": [],
      "source": [
        "#into Float64 type\n",
        "df_test.Rating = df_test.Rating.astype(np.float64)"
      ]
    },
    {
      "cell_type": "code",
      "execution_count": null,
      "metadata": {
        "colab": {
          "base_uri": "https://localhost:8080/"
        },
        "id": "dE9N51_RI5tZ",
        "outputId": "de747607-896b-44ce-df01-cbe0b099be81"
      },
      "outputs": [
        {
          "output_type": "execute_result",
          "data": {
            "text/plain": [
              "2.9420692141312186"
            ]
          },
          "metadata": {},
          "execution_count": 48
        }
      ],
      "source": [
        "#mean of test set\n",
        "df_test.Rating.mean()"
      ]
    },
    {
      "cell_type": "code",
      "execution_count": null,
      "metadata": {
        "id": "73uchdtLI5tZ"
      },
      "outputs": [],
      "source": [
        "#replacing mean value in Test set of Rating\n",
        "df_test.Rating = df_test.Rating.replace(0,2.9)"
      ]
    },
    {
      "cell_type": "code",
      "execution_count": null,
      "metadata": {
        "scrolled": true,
        "colab": {
          "base_uri": "https://localhost:8080/"
        },
        "id": "aIUXmPfBI5ta",
        "outputId": "31a2fbd5-96b1-426e-eabf-6104b4310a50"
      },
      "outputs": [
        {
          "output_type": "stream",
          "name": "stdout",
          "text": [
            "Train set:\n",
            " -                     1191\n",
            "3.7                    869\n",
            "3.6                    846\n",
            "3.5                    818\n",
            "3.8                    800\n",
            "NEW                    757\n",
            "3.9                    749\n",
            "3.4                    718\n",
            "3.3                    675\n",
            "4.0                    614\n",
            "3.2                    511\n",
            "4.1                    459\n",
            "3.1                    411\n",
            "3.0                    302\n",
            "4.2                    272\n",
            "4.3                    247\n",
            "2.9                    199\n",
            "2.8                    157\n",
            "4.4                    142\n",
            "4.5                     78\n",
            "2.7                     76\n",
            "2.6                     42\n",
            "4.6                     41\n",
            "4.7                     36\n",
            "2.5                     27\n",
            "2.4                     13\n",
            "4.8                     13\n",
            "Opening Soon            12\n",
            "4.9                      8\n",
            "2.3                      6\n",
            "Temporarily Closed       2\n",
            "2.2                      1\n",
            "2.1                      1\n",
            "Name: Rating, dtype: int64 \n",
            "\n",
            "########################################################################### \n",
            "\n",
            "\n",
            "Prediction set:\n",
            " 2.9    564\n",
            "3.6    223\n",
            "3.9    216\n",
            "3.7    212\n",
            "3.5    197\n",
            "3.4    185\n",
            "3.8    183\n",
            "3.3    153\n",
            "4.0    141\n",
            "3.2    129\n",
            "3.1    120\n",
            "4.1    115\n",
            "4.2     70\n",
            "3.0     65\n",
            "4.3     52\n",
            "2.8     41\n",
            "4.4     29\n",
            "2.7     22\n",
            "4.5     18\n",
            "2.6      9\n",
            "4.6      7\n",
            "4.7      6\n",
            "2.5      6\n",
            "2.4      5\n",
            "4.8      3\n",
            "2.3      2\n",
            "2.1      1\n",
            "Name: Rating, dtype: int64\n"
          ]
        }
      ],
      "source": [
        "#after cleaning of Train and Test sets\n",
        "\n",
        "print(\"Train set:\\n\",df_train.Rating.value_counts(), \"\\n\")\n",
        "\n",
        "print(\"#\"*75,\"\\n\")\n",
        "\n",
        "print(\"\\nPrediction set:\\n\",df_test.Rating.value_counts())"
      ]
    },
    {
      "cell_type": "code",
      "execution_count": null,
      "metadata": {
        "scrolled": true,
        "colab": {
          "base_uri": "https://localhost:8080/"
        },
        "id": "CCr2AJEsI5ta",
        "outputId": "bea0c5b6-850c-4d5f-82b8-fb90fd8fedfe"
      },
      "outputs": [
        {
          "output_type": "stream",
          "name": "stdout",
          "text": [
            "Train set:\n",
            " -       2073\n",
            "4        248\n",
            "6        200\n",
            "7        182\n",
            "9        181\n",
            "        ... \n",
            "1106       1\n",
            "935        1\n",
            "663        1\n",
            "1116       1\n",
            "3700       1\n",
            "Name: Votes, Length: 1103, dtype: int64 \n",
            "\n",
            "########################################################################### \n",
            "\n",
            "\n",
            "Prediction set:\n",
            " -       542\n",
            "7        60\n",
            "9        57\n",
            "6        55\n",
            "5        51\n",
            "       ... \n",
            "403       1\n",
            "394       1\n",
            "716       1\n",
            "268       1\n",
            "1256      1\n",
            "Name: Votes, Length: 580, dtype: int64\n"
          ]
        }
      ],
      "source": [
        "#Votes data of train and test sets\n",
        "print(\"Train set:\\n\",df_train.Votes.value_counts(), \"\\n\")\n",
        "\n",
        "print(\"#\"*75,\"\\n\")\n",
        "\n",
        "print(\"\\nPrediction set:\\n\",df_test.Votes.value_counts())"
      ]
    },
    {
      "cell_type": "code",
      "execution_count": null,
      "metadata": {
        "id": "snogoENCI5ta"
      },
      "outputs": [],
      "source": [
        "#applying same trick to impute meann value in Votes in '0'\n",
        "df_train.Votes = df_train.Votes.replace('-',0)\n",
        "df_train.Votes = df_train.Votes.astype(np.int64)"
      ]
    },
    {
      "cell_type": "code",
      "execution_count": null,
      "metadata": {
        "colab": {
          "base_uri": "https://localhost:8080/"
        },
        "id": "VUa2mGU5I5ta",
        "outputId": "27f99ff6-a4dd-4f5e-e364-081fa637b93f"
      },
      "outputs": [
        {
          "output_type": "execute_result",
          "data": {
            "text/plain": [
              "198.84530785179842"
            ]
          },
          "metadata": {},
          "execution_count": 53
        }
      ],
      "source": [
        "df_train.Votes.mean()"
      ]
    },
    {
      "cell_type": "code",
      "execution_count": null,
      "metadata": {
        "id": "PEIcykwLI5tb"
      },
      "outputs": [],
      "source": [
        "df_train.Votes = df_train.Votes.replace(0,199)"
      ]
    },
    {
      "cell_type": "code",
      "execution_count": null,
      "metadata": {
        "id": "yvFPFASOI5tb"
      },
      "outputs": [],
      "source": [
        "#applying same trick to impute mnean value in Votes in '0' in Test Set\n",
        "\n",
        "df_test.Votes = df_test.Votes.replace('-',0)\n",
        "df_test.Votes = df_test.Votes.astype(np.int64)"
      ]
    },
    {
      "cell_type": "code",
      "execution_count": null,
      "metadata": {
        "colab": {
          "base_uri": "https://localhost:8080/"
        },
        "id": "c3ZAxsWhI5tb",
        "outputId": "11afeead-9b06-4a0c-c318-6473c4853ef7"
      },
      "outputs": [
        {
          "output_type": "execute_result",
          "data": {
            "text/plain": [
              "182.58976207642394"
            ]
          },
          "metadata": {},
          "execution_count": 56
        }
      ],
      "source": [
        "df_test.Votes.mean()"
      ]
    },
    {
      "cell_type": "code",
      "execution_count": null,
      "metadata": {
        "id": "9qqJAmgUI5tb"
      },
      "outputs": [],
      "source": [
        "df_train.Votes = df_train.Votes.replace(0,182)"
      ]
    },
    {
      "cell_type": "code",
      "execution_count": null,
      "metadata": {
        "colab": {
          "base_uri": "https://localhost:8080/"
        },
        "id": "e5Vu7eHgI5tb",
        "outputId": "7b860b84-7393-4f1d-a565-1d1d155ea202"
      },
      "outputs": [
        {
          "output_type": "stream",
          "name": "stdout",
          "text": [
            "Train set:\n",
            " 199     2080\n",
            "4        248\n",
            "6        200\n",
            "7        182\n",
            "9        181\n",
            "        ... \n",
            "1106       1\n",
            "935        1\n",
            "663        1\n",
            "1116       1\n",
            "3700       1\n",
            "Name: Votes, Length: 1102, dtype: int64 \n",
            "\n",
            "########################################################################### \n",
            "\n",
            "\n",
            "Prediction set:\n",
            " 0       542\n",
            "7        60\n",
            "9        57\n",
            "6        55\n",
            "5        51\n",
            "       ... \n",
            "403       1\n",
            "394       1\n",
            "716       1\n",
            "268       1\n",
            "1256      1\n",
            "Name: Votes, Length: 580, dtype: int64\n"
          ]
        }
      ],
      "source": [
        "print(\"Train set:\\n\",df_train.Votes.value_counts(), \"\\n\")\n",
        "\n",
        "print(\"#\"*75,\"\\n\")\n",
        "\n",
        "print(\"\\nPrediction set:\\n\",df_test.Votes.value_counts())"
      ]
    },
    {
      "cell_type": "code",
      "execution_count": null,
      "metadata": {
        "id": "CohmukqlI5tc",
        "outputId": "0c7a17d3-b799-4c7e-e698-537befbaf6d2"
      },
      "outputs": [
        {
          "data": {
            "text/plain": [
              "Index(['Restaurant', 'Location', 'Cuisines', 'Average_Cost', 'Minimum_Order',\n",
              "       'Rating', 'Votes', 'Reviews', 'Delivery_Time'],\n",
              "      dtype='object')"
            ]
          },
          "execution_count": 47,
          "metadata": {},
          "output_type": "execute_result"
        }
      ],
      "source": [
        "df_train.keys()"
      ]
    },
    {
      "cell_type": "code",
      "execution_count": null,
      "metadata": {
        "id": "c3zyOh-8I5tc"
      },
      "outputs": [],
      "source": [
        "#imputing Review mean in train set\n",
        "df_train.Reviews = df_train.Reviews.replace('-',0)\n",
        "df_train.Reviews = df_train.Reviews.astype(np.int64)"
      ]
    },
    {
      "cell_type": "code",
      "execution_count": null,
      "metadata": {
        "id": "oeO-h2YDI5tc",
        "outputId": "3cf11d2a-f893-4c00-d983-92a4628c5dda"
      },
      "outputs": [
        {
          "data": {
            "text/plain": [
              "97.57171189038132"
            ]
          },
          "execution_count": 49,
          "metadata": {},
          "output_type": "execute_result"
        }
      ],
      "source": [
        "df_train.Reviews.mean()"
      ]
    },
    {
      "cell_type": "code",
      "execution_count": null,
      "metadata": {
        "id": "LvHvQVJDI5tc"
      },
      "outputs": [],
      "source": [
        "df_train.Reviews = df_train.Reviews.replace(0,97)"
      ]
    },
    {
      "cell_type": "code",
      "execution_count": null,
      "metadata": {
        "id": "hqvkTNY9I5td"
      },
      "outputs": [],
      "source": [
        "##imputing Review mean in Test set\n",
        "\n",
        "df_test.Reviews = df_test.Reviews.replace('-',0)\n",
        "df_test.Reviews = df_test.Reviews.astype(np.int64)"
      ]
    },
    {
      "cell_type": "code",
      "execution_count": null,
      "metadata": {
        "colab": {
          "base_uri": "https://localhost:8080/"
        },
        "id": "sEP1hRXMI5td",
        "outputId": "25c69e5d-de7f-4cb3-c8c7-0d2f5c32a0c5"
      },
      "outputs": [
        {
          "output_type": "execute_result",
          "data": {
            "text/plain": [
              "87.59444844989186"
            ]
          },
          "metadata": {},
          "execution_count": 61
        }
      ],
      "source": [
        "df_test.Reviews.mean()"
      ]
    },
    {
      "cell_type": "code",
      "execution_count": null,
      "metadata": {
        "id": "YJqUfXXQI5td"
      },
      "outputs": [],
      "source": [
        "df_test.Reviews = df_test.Reviews.replace(0,87)"
      ]
    },
    {
      "cell_type": "code",
      "execution_count": null,
      "metadata": {
        "scrolled": true,
        "colab": {
          "base_uri": "https://localhost:8080/"
        },
        "id": "m5PCepJ-I5td",
        "outputId": "289573a2-df6b-4d98-c06a-2012991e2b8f"
      },
      "outputs": [
        {
          "output_type": "stream",
          "name": "stdout",
          "text": [
            "Train set:\n",
            " -       2311\n",
            "2        420\n",
            "3        387\n",
            "1        381\n",
            "4        356\n",
            "        ... \n",
            "1501       1\n",
            "983        1\n",
            "343        1\n",
            "397        1\n",
            "549        1\n",
            "Name: Reviews, Length: 761, dtype: int64 \n",
            "\n",
            "########################################################################### \n",
            "\n",
            "\n",
            "Prediction set:\n",
            " 87     597\n",
            "2      131\n",
            "1      102\n",
            "3       79\n",
            "4       72\n",
            "      ... \n",
            "664      1\n",
            "594      1\n",
            "495      1\n",
            "169      1\n",
            "731      1\n",
            "Name: Reviews, Length: 391, dtype: int64\n"
          ]
        }
      ],
      "source": [
        "#after cleaing Review column for train and test sets\n",
        "print(\"Train set:\\n\",df_train.Reviews.value_counts(), \"\\n\")\n",
        "\n",
        "print(\"#\"*75,\"\\n\")\n",
        "\n",
        "print(\"\\nPrediction set:\\n\",df_test.Reviews.value_counts())"
      ]
    },
    {
      "cell_type": "code",
      "execution_count": null,
      "metadata": {
        "id": "q5snjZVGI5td",
        "outputId": "21abceeb-b5bd-4101-b310-4fcc7474a041"
      },
      "outputs": [
        {
          "data": {
            "text/plain": [
              "0        30 minutes\n",
              "1        30 minutes\n",
              "2        65 minutes\n",
              "3        30 minutes\n",
              "4        65 minutes\n",
              "            ...    \n",
              "11089    30 minutes\n",
              "11090    30 minutes\n",
              "11091    30 minutes\n",
              "11092    30 minutes\n",
              "11093    30 minutes\n",
              "Name: Delivery_Time, Length: 11093, dtype: object"
            ]
          },
          "execution_count": 55,
          "metadata": {},
          "output_type": "execute_result"
        }
      ],
      "source": [
        "#Lets see the Target column\n",
        "df_train.Delivery_Time"
      ]
    },
    {
      "cell_type": "code",
      "execution_count": null,
      "metadata": {
        "colab": {
          "base_uri": "https://localhost:8080/"
        },
        "id": "QU1l2lzII5td",
        "outputId": "5830237c-61f3-4390-86cd-3383ee42890a"
      },
      "outputs": [
        {
          "output_type": "stream",
          "name": "stdout",
          "text": [
            "\n",
            "Train set:\n",
            "\n",
            " Restaurant       object\n",
            "Location         object\n",
            "Cuisines         object\n",
            "Average_Cost      int64\n",
            "Minimum_Order     int64\n",
            "Rating           object\n",
            "Votes             int64\n",
            "Reviews          object\n",
            "Delivery_Time    object\n",
            "dtype: object \n",
            "\n",
            "########################################################################### \n",
            "\n",
            "\n",
            "Prediction set:\n",
            "\n",
            " Restaurant        object\n",
            "Location          object\n",
            "Cuisines          object\n",
            "Average_Cost       int64\n",
            "Minimum_Order      int64\n",
            "Rating           float64\n",
            "Votes              int64\n",
            "Reviews            int64\n",
            "dtype: object\n"
          ]
        }
      ],
      "source": [
        "#after cleaning of non-object datatypes of train and test sets\n",
        "print(\"\\nTrain set:\\n\\n\",df_train.dtypes, \"\\n\")\n",
        " \n",
        "print(\"#\"*75,\"\\n\")\n",
        "\n",
        "print(\"\\nPrediction set:\\n\\n\",df_test.dtypes)"
      ]
    },
    {
      "cell_type": "code",
      "execution_count": null,
      "metadata": {
        "colab": {
          "base_uri": "https://localhost:8080/",
          "height": 300
        },
        "id": "hQf7v_kjI5td",
        "outputId": "9bd41f04-059b-4625-a16f-6ba2835fcf3c"
      },
      "outputs": [
        {
          "output_type": "execute_result",
          "data": {
            "text/plain": [
              "       Average_Cost  Minimum_Order         Votes\n",
              "count  11093.000000   11093.000000  11093.000000\n",
              "mean     202.708916      54.099703    236.033354\n",
              "std      129.839111      17.409059    500.857756\n",
              "min       50.000000      50.000000      3.000000\n",
              "25%      100.000000      50.000000     26.000000\n",
              "50%      200.000000      50.000000    106.000000\n",
              "75%      200.000000      50.000000    199.000000\n",
              "max     2050.000000     500.000000   9054.000000"
            ],
            "text/html": [
              "\n",
              "  <div id=\"df-52580d3e-2b65-46ab-ae4f-217b963093f8\">\n",
              "    <div class=\"colab-df-container\">\n",
              "      <div>\n",
              "<style scoped>\n",
              "    .dataframe tbody tr th:only-of-type {\n",
              "        vertical-align: middle;\n",
              "    }\n",
              "\n",
              "    .dataframe tbody tr th {\n",
              "        vertical-align: top;\n",
              "    }\n",
              "\n",
              "    .dataframe thead th {\n",
              "        text-align: right;\n",
              "    }\n",
              "</style>\n",
              "<table border=\"1\" class=\"dataframe\">\n",
              "  <thead>\n",
              "    <tr style=\"text-align: right;\">\n",
              "      <th></th>\n",
              "      <th>Average_Cost</th>\n",
              "      <th>Minimum_Order</th>\n",
              "      <th>Votes</th>\n",
              "    </tr>\n",
              "  </thead>\n",
              "  <tbody>\n",
              "    <tr>\n",
              "      <th>count</th>\n",
              "      <td>11093.000000</td>\n",
              "      <td>11093.000000</td>\n",
              "      <td>11093.000000</td>\n",
              "    </tr>\n",
              "    <tr>\n",
              "      <th>mean</th>\n",
              "      <td>202.708916</td>\n",
              "      <td>54.099703</td>\n",
              "      <td>236.033354</td>\n",
              "    </tr>\n",
              "    <tr>\n",
              "      <th>std</th>\n",
              "      <td>129.839111</td>\n",
              "      <td>17.409059</td>\n",
              "      <td>500.857756</td>\n",
              "    </tr>\n",
              "    <tr>\n",
              "      <th>min</th>\n",
              "      <td>50.000000</td>\n",
              "      <td>50.000000</td>\n",
              "      <td>3.000000</td>\n",
              "    </tr>\n",
              "    <tr>\n",
              "      <th>25%</th>\n",
              "      <td>100.000000</td>\n",
              "      <td>50.000000</td>\n",
              "      <td>26.000000</td>\n",
              "    </tr>\n",
              "    <tr>\n",
              "      <th>50%</th>\n",
              "      <td>200.000000</td>\n",
              "      <td>50.000000</td>\n",
              "      <td>106.000000</td>\n",
              "    </tr>\n",
              "    <tr>\n",
              "      <th>75%</th>\n",
              "      <td>200.000000</td>\n",
              "      <td>50.000000</td>\n",
              "      <td>199.000000</td>\n",
              "    </tr>\n",
              "    <tr>\n",
              "      <th>max</th>\n",
              "      <td>2050.000000</td>\n",
              "      <td>500.000000</td>\n",
              "      <td>9054.000000</td>\n",
              "    </tr>\n",
              "  </tbody>\n",
              "</table>\n",
              "</div>\n",
              "      <button class=\"colab-df-convert\" onclick=\"convertToInteractive('df-52580d3e-2b65-46ab-ae4f-217b963093f8')\"\n",
              "              title=\"Convert this dataframe to an interactive table.\"\n",
              "              style=\"display:none;\">\n",
              "        \n",
              "  <svg xmlns=\"http://www.w3.org/2000/svg\" height=\"24px\"viewBox=\"0 0 24 24\"\n",
              "       width=\"24px\">\n",
              "    <path d=\"M0 0h24v24H0V0z\" fill=\"none\"/>\n",
              "    <path d=\"M18.56 5.44l.94 2.06.94-2.06 2.06-.94-2.06-.94-.94-2.06-.94 2.06-2.06.94zm-11 1L8.5 8.5l.94-2.06 2.06-.94-2.06-.94L8.5 2.5l-.94 2.06-2.06.94zm10 10l.94 2.06.94-2.06 2.06-.94-2.06-.94-.94-2.06-.94 2.06-2.06.94z\"/><path d=\"M17.41 7.96l-1.37-1.37c-.4-.4-.92-.59-1.43-.59-.52 0-1.04.2-1.43.59L10.3 9.45l-7.72 7.72c-.78.78-.78 2.05 0 2.83L4 21.41c.39.39.9.59 1.41.59.51 0 1.02-.2 1.41-.59l7.78-7.78 2.81-2.81c.8-.78.8-2.07 0-2.86zM5.41 20L4 18.59l7.72-7.72 1.47 1.35L5.41 20z\"/>\n",
              "  </svg>\n",
              "      </button>\n",
              "      \n",
              "  <style>\n",
              "    .colab-df-container {\n",
              "      display:flex;\n",
              "      flex-wrap:wrap;\n",
              "      gap: 12px;\n",
              "    }\n",
              "\n",
              "    .colab-df-convert {\n",
              "      background-color: #E8F0FE;\n",
              "      border: none;\n",
              "      border-radius: 50%;\n",
              "      cursor: pointer;\n",
              "      display: none;\n",
              "      fill: #1967D2;\n",
              "      height: 32px;\n",
              "      padding: 0 0 0 0;\n",
              "      width: 32px;\n",
              "    }\n",
              "\n",
              "    .colab-df-convert:hover {\n",
              "      background-color: #E2EBFA;\n",
              "      box-shadow: 0px 1px 2px rgba(60, 64, 67, 0.3), 0px 1px 3px 1px rgba(60, 64, 67, 0.15);\n",
              "      fill: #174EA6;\n",
              "    }\n",
              "\n",
              "    [theme=dark] .colab-df-convert {\n",
              "      background-color: #3B4455;\n",
              "      fill: #D2E3FC;\n",
              "    }\n",
              "\n",
              "    [theme=dark] .colab-df-convert:hover {\n",
              "      background-color: #434B5C;\n",
              "      box-shadow: 0px 1px 3px 1px rgba(0, 0, 0, 0.15);\n",
              "      filter: drop-shadow(0px 1px 2px rgba(0, 0, 0, 0.3));\n",
              "      fill: #FFFFFF;\n",
              "    }\n",
              "  </style>\n",
              "\n",
              "      <script>\n",
              "        const buttonEl =\n",
              "          document.querySelector('#df-52580d3e-2b65-46ab-ae4f-217b963093f8 button.colab-df-convert');\n",
              "        buttonEl.style.display =\n",
              "          google.colab.kernel.accessAllowed ? 'block' : 'none';\n",
              "\n",
              "        async function convertToInteractive(key) {\n",
              "          const element = document.querySelector('#df-52580d3e-2b65-46ab-ae4f-217b963093f8');\n",
              "          const dataTable =\n",
              "            await google.colab.kernel.invokeFunction('convertToInteractive',\n",
              "                                                     [key], {});\n",
              "          if (!dataTable) return;\n",
              "\n",
              "          const docLinkHtml = 'Like what you see? Visit the ' +\n",
              "            '<a target=\"_blank\" href=https://colab.research.google.com/notebooks/data_table.ipynb>data table notebook</a>'\n",
              "            + ' to learn more about interactive tables.';\n",
              "          element.innerHTML = '';\n",
              "          dataTable['output_type'] = 'display_data';\n",
              "          await google.colab.output.renderOutput(dataTable, element);\n",
              "          const docLink = document.createElement('div');\n",
              "          docLink.innerHTML = docLinkHtml;\n",
              "          element.appendChild(docLink);\n",
              "        }\n",
              "      </script>\n",
              "    </div>\n",
              "  </div>\n",
              "  "
            ]
          },
          "metadata": {},
          "execution_count": 65
        }
      ],
      "source": [
        "df_train.describe()"
      ]
    },
    {
      "cell_type": "code",
      "execution_count": null,
      "metadata": {
        "colab": {
          "base_uri": "https://localhost:8080/",
          "height": 300
        },
        "id": "xLDl92zXI5td",
        "outputId": "f9a4811e-39ae-47f6-8d92-5e2226b844b4"
      },
      "outputs": [
        {
          "output_type": "execute_result",
          "data": {
            "text/plain": [
              "       Average_Cost  Minimum_Order       Rating        Votes      Reviews\n",
              "count   2774.000000    2774.000000  2774.000000  2774.000000  2774.000000\n",
              "mean     195.385725      53.873468     3.472098   182.589762   106.192502\n",
              "std      114.509785      17.766107     0.458875   480.784022   259.604760\n",
              "min       50.000000      50.000000     2.100000     0.000000     1.000000\n",
              "25%      100.000000      50.000000     3.000000     6.000000    10.000000\n",
              "50%      200.000000      50.000000     3.500000    35.500000    48.000000\n",
              "75%      200.000000      50.000000     3.800000   148.750000    87.000000\n",
              "max     1200.000000     500.000000     4.800000  7811.000000  3863.000000"
            ],
            "text/html": [
              "\n",
              "  <div id=\"df-65a9f92e-16a4-4d5c-845c-2a969d67d83e\">\n",
              "    <div class=\"colab-df-container\">\n",
              "      <div>\n",
              "<style scoped>\n",
              "    .dataframe tbody tr th:only-of-type {\n",
              "        vertical-align: middle;\n",
              "    }\n",
              "\n",
              "    .dataframe tbody tr th {\n",
              "        vertical-align: top;\n",
              "    }\n",
              "\n",
              "    .dataframe thead th {\n",
              "        text-align: right;\n",
              "    }\n",
              "</style>\n",
              "<table border=\"1\" class=\"dataframe\">\n",
              "  <thead>\n",
              "    <tr style=\"text-align: right;\">\n",
              "      <th></th>\n",
              "      <th>Average_Cost</th>\n",
              "      <th>Minimum_Order</th>\n",
              "      <th>Rating</th>\n",
              "      <th>Votes</th>\n",
              "      <th>Reviews</th>\n",
              "    </tr>\n",
              "  </thead>\n",
              "  <tbody>\n",
              "    <tr>\n",
              "      <th>count</th>\n",
              "      <td>2774.000000</td>\n",
              "      <td>2774.000000</td>\n",
              "      <td>2774.000000</td>\n",
              "      <td>2774.000000</td>\n",
              "      <td>2774.000000</td>\n",
              "    </tr>\n",
              "    <tr>\n",
              "      <th>mean</th>\n",
              "      <td>195.385725</td>\n",
              "      <td>53.873468</td>\n",
              "      <td>3.472098</td>\n",
              "      <td>182.589762</td>\n",
              "      <td>106.192502</td>\n",
              "    </tr>\n",
              "    <tr>\n",
              "      <th>std</th>\n",
              "      <td>114.509785</td>\n",
              "      <td>17.766107</td>\n",
              "      <td>0.458875</td>\n",
              "      <td>480.784022</td>\n",
              "      <td>259.604760</td>\n",
              "    </tr>\n",
              "    <tr>\n",
              "      <th>min</th>\n",
              "      <td>50.000000</td>\n",
              "      <td>50.000000</td>\n",
              "      <td>2.100000</td>\n",
              "      <td>0.000000</td>\n",
              "      <td>1.000000</td>\n",
              "    </tr>\n",
              "    <tr>\n",
              "      <th>25%</th>\n",
              "      <td>100.000000</td>\n",
              "      <td>50.000000</td>\n",
              "      <td>3.000000</td>\n",
              "      <td>6.000000</td>\n",
              "      <td>10.000000</td>\n",
              "    </tr>\n",
              "    <tr>\n",
              "      <th>50%</th>\n",
              "      <td>200.000000</td>\n",
              "      <td>50.000000</td>\n",
              "      <td>3.500000</td>\n",
              "      <td>35.500000</td>\n",
              "      <td>48.000000</td>\n",
              "    </tr>\n",
              "    <tr>\n",
              "      <th>75%</th>\n",
              "      <td>200.000000</td>\n",
              "      <td>50.000000</td>\n",
              "      <td>3.800000</td>\n",
              "      <td>148.750000</td>\n",
              "      <td>87.000000</td>\n",
              "    </tr>\n",
              "    <tr>\n",
              "      <th>max</th>\n",
              "      <td>1200.000000</td>\n",
              "      <td>500.000000</td>\n",
              "      <td>4.800000</td>\n",
              "      <td>7811.000000</td>\n",
              "      <td>3863.000000</td>\n",
              "    </tr>\n",
              "  </tbody>\n",
              "</table>\n",
              "</div>\n",
              "      <button class=\"colab-df-convert\" onclick=\"convertToInteractive('df-65a9f92e-16a4-4d5c-845c-2a969d67d83e')\"\n",
              "              title=\"Convert this dataframe to an interactive table.\"\n",
              "              style=\"display:none;\">\n",
              "        \n",
              "  <svg xmlns=\"http://www.w3.org/2000/svg\" height=\"24px\"viewBox=\"0 0 24 24\"\n",
              "       width=\"24px\">\n",
              "    <path d=\"M0 0h24v24H0V0z\" fill=\"none\"/>\n",
              "    <path d=\"M18.56 5.44l.94 2.06.94-2.06 2.06-.94-2.06-.94-.94-2.06-.94 2.06-2.06.94zm-11 1L8.5 8.5l.94-2.06 2.06-.94-2.06-.94L8.5 2.5l-.94 2.06-2.06.94zm10 10l.94 2.06.94-2.06 2.06-.94-2.06-.94-.94-2.06-.94 2.06-2.06.94z\"/><path d=\"M17.41 7.96l-1.37-1.37c-.4-.4-.92-.59-1.43-.59-.52 0-1.04.2-1.43.59L10.3 9.45l-7.72 7.72c-.78.78-.78 2.05 0 2.83L4 21.41c.39.39.9.59 1.41.59.51 0 1.02-.2 1.41-.59l7.78-7.78 2.81-2.81c.8-.78.8-2.07 0-2.86zM5.41 20L4 18.59l7.72-7.72 1.47 1.35L5.41 20z\"/>\n",
              "  </svg>\n",
              "      </button>\n",
              "      \n",
              "  <style>\n",
              "    .colab-df-container {\n",
              "      display:flex;\n",
              "      flex-wrap:wrap;\n",
              "      gap: 12px;\n",
              "    }\n",
              "\n",
              "    .colab-df-convert {\n",
              "      background-color: #E8F0FE;\n",
              "      border: none;\n",
              "      border-radius: 50%;\n",
              "      cursor: pointer;\n",
              "      display: none;\n",
              "      fill: #1967D2;\n",
              "      height: 32px;\n",
              "      padding: 0 0 0 0;\n",
              "      width: 32px;\n",
              "    }\n",
              "\n",
              "    .colab-df-convert:hover {\n",
              "      background-color: #E2EBFA;\n",
              "      box-shadow: 0px 1px 2px rgba(60, 64, 67, 0.3), 0px 1px 3px 1px rgba(60, 64, 67, 0.15);\n",
              "      fill: #174EA6;\n",
              "    }\n",
              "\n",
              "    [theme=dark] .colab-df-convert {\n",
              "      background-color: #3B4455;\n",
              "      fill: #D2E3FC;\n",
              "    }\n",
              "\n",
              "    [theme=dark] .colab-df-convert:hover {\n",
              "      background-color: #434B5C;\n",
              "      box-shadow: 0px 1px 3px 1px rgba(0, 0, 0, 0.15);\n",
              "      filter: drop-shadow(0px 1px 2px rgba(0, 0, 0, 0.3));\n",
              "      fill: #FFFFFF;\n",
              "    }\n",
              "  </style>\n",
              "\n",
              "      <script>\n",
              "        const buttonEl =\n",
              "          document.querySelector('#df-65a9f92e-16a4-4d5c-845c-2a969d67d83e button.colab-df-convert');\n",
              "        buttonEl.style.display =\n",
              "          google.colab.kernel.accessAllowed ? 'block' : 'none';\n",
              "\n",
              "        async function convertToInteractive(key) {\n",
              "          const element = document.querySelector('#df-65a9f92e-16a4-4d5c-845c-2a969d67d83e');\n",
              "          const dataTable =\n",
              "            await google.colab.kernel.invokeFunction('convertToInteractive',\n",
              "                                                     [key], {});\n",
              "          if (!dataTable) return;\n",
              "\n",
              "          const docLinkHtml = 'Like what you see? Visit the ' +\n",
              "            '<a target=\"_blank\" href=https://colab.research.google.com/notebooks/data_table.ipynb>data table notebook</a>'\n",
              "            + ' to learn more about interactive tables.';\n",
              "          element.innerHTML = '';\n",
              "          dataTable['output_type'] = 'display_data';\n",
              "          await google.colab.output.renderOutput(dataTable, element);\n",
              "          const docLink = document.createElement('div');\n",
              "          docLink.innerHTML = docLinkHtml;\n",
              "          element.appendChild(docLink);\n",
              "        }\n",
              "      </script>\n",
              "    </div>\n",
              "  </div>\n",
              "  "
            ]
          },
          "metadata": {},
          "execution_count": 66
        }
      ],
      "source": [
        "df_test.describe()"
      ]
    },
    {
      "cell_type": "code",
      "execution_count": null,
      "metadata": {
        "id": "YGHkMSMpI5te",
        "outputId": "2d1bc480-3666-40c9-8b28-62a5794dcf32"
      },
      "outputs": [
        {
          "data": {
            "text/plain": [
              "Index(['Restaurant', 'Location', 'Cuisines', 'Average_Cost', 'Minimum_Order',\n",
              "       'Rating', 'Votes', 'Reviews', 'Delivery_Time'],\n",
              "      dtype='object')"
            ]
          },
          "execution_count": 59,
          "metadata": {},
          "output_type": "execute_result"
        }
      ],
      "source": [
        "df_train.keys()"
      ]
    },
    {
      "cell_type": "code",
      "execution_count": null,
      "metadata": {
        "colab": {
          "base_uri": "https://localhost:8080/",
          "height": 468
        },
        "id": "hVxneh0wI5te",
        "outputId": "d71877ca-40d8-4778-c9bd-d2a78a58e3fd"
      },
      "outputs": [
        {
          "output_type": "execute_result",
          "data": {
            "text/plain": [
              "<Axes: >"
            ]
          },
          "metadata": {},
          "execution_count": 67
        },
        {
          "output_type": "display_data",
          "data": {
            "text/plain": [
              "<Figure size 640x480 with 1 Axes>"
            ],
            "image/png": "[encoded data removed]"
          },
          "metadata": {}
        }
      ],
      "source": [
        "df_train.Average_Cost.value_counts().plot.bar()"
      ]
    },
    {
      "cell_type": "code",
      "execution_count": null,
      "metadata": {
        "id": "ZaFAvlvVI5te",
        "outputId": "b8c740e1-35ea-4f0e-8e2b-f0cbb0a0dcf1"
      },
      "outputs": [
        {
          "data": {
            "text/plain": [
              "<matplotlib.axes._subplots.AxesSubplot at 0x1d7d267fdd8>"
            ]
          },
          "execution_count": 76,
          "metadata": {},
          "output_type": "execute_result"
        },
        {
          "data": {
            "image/png": "[encoded data removed]",
            "text/plain": [
              "<Figure size 1008x432 with 1 Axes>"
            ]
          },
          "metadata": {
            "needs_background": "light"
          },
          "output_type": "display_data"
        }
      ],
      "source": [
        "#Average_Cost influence\n",
        "plt.figure(figsize=(14,6))\n",
        "\n",
        "sns.countplot(y = df_train.Average_Cost, order=df_train.Average_Cost.value_counts().index, saturation=3)"
      ]
    },
    {
      "cell_type": "code",
      "execution_count": null,
      "metadata": {
        "id": "csjo5O5zI5te",
        "outputId": "87787701-147e-43bf-e7c9-83280dd6e585"
      },
      "outputs": [
        {
          "data": {
            "text/plain": [
              "<matplotlib.axes._subplots.AxesSubplot at 0x1d7d26aadd8>"
            ]
          },
          "execution_count": 77,
          "metadata": {},
          "output_type": "execute_result"
        },
        {
          "data": {
            "image/png": "[encoded data removed]",
            "text/plain": [
              "<Figure size 1008x432 with 1 Axes>"
            ]
          },
          "metadata": {
            "needs_background": "light"
          },
          "output_type": "display_data"
        }
      ],
      "source": [
        "#Minimum_Order data\n",
        "plt.figure(figsize=(14,6))\n",
        "\n",
        "sns.countplot(y = df_train.Minimum_Order, order=df_train.Minimum_Order.value_counts().index, saturation=3)"
      ]
    },
    {
      "cell_type": "code",
      "execution_count": null,
      "metadata": {
        "id": "NwiL5XCdI5te",
        "outputId": "d833df94-9817-4900-ffcc-dee56517bc42"
      },
      "outputs": [
        {
          "data": {
            "text/plain": [
              "<matplotlib.axes._subplots.AxesSubplot at 0x1d7d26aacf8>"
            ]
          },
          "execution_count": 78,
          "metadata": {},
          "output_type": "execute_result"
        },
        {
          "data": {
            "image/png": "[encoded data removed]",
            "text/plain": [
              "<Figure size 1008x432 with 1 Axes>"
            ]
          },
          "metadata": {
            "needs_background": "light"
          },
          "output_type": "display_data"
        }
      ],
      "source": [
        "#Rating info\n",
        "plt.figure(figsize=(14,6))\n",
        "sns.countplot(y = df_train.Rating, order=df_train.Rating.value_counts().index, saturation=3)"
      ]
    },
    {
      "cell_type": "code",
      "execution_count": null,
      "metadata": {
        "id": "26jElaxII5te"
      },
      "outputs": [],
      "source": [
        "#lets work on object datatypes\n",
        "#take a look on train Location column which are unique\n",
        "df_train.Location.nunique()"
      ]
    },
    {
      "cell_type": "code",
      "execution_count": null,
      "metadata": {
        "id": "3jxC5FeqI5tf"
      },
      "outputs": [],
      "source": [
        "#unique points in Cuisines\n",
        "df_train.Cuisines.nunique()"
      ]
    },
    {
      "cell_type": "markdown",
      "metadata": {
        "id": "N70GgAxoI5tf"
      },
      "source": [
        "---\n",
        "- whenever there is a need to use object variables in ML modesl we have to convert them into Algorithm understandable way\n",
        "\n",
        "- so we are not using one-hot encodig due to curse of dimentionality \n",
        "\n",
        "- finally i'm using Label encoder to convert unique values\n",
        "---"
      ]
    },
    {
      "cell_type": "code",
      "execution_count": null,
      "metadata": {
        "id": "pvDQNUbnI5tf"
      },
      "outputs": [],
      "source": [
        "# Categorical boolean mask\n",
        "categorical_cols = df_train.columns[:3].tolist()"
      ]
    },
    {
      "cell_type": "code",
      "execution_count": null,
      "metadata": {
        "colab": {
          "base_uri": "https://localhost:8080/"
        },
        "id": "Mqvu1MwMI5tf",
        "outputId": "f6909f2c-d264-419f-ccf3-f505f9d82b11"
      },
      "outputs": [
        {
          "output_type": "execute_result",
          "data": {
            "text/plain": [
              "['Restaurant', 'Location', 'Cuisines']"
            ]
          },
          "metadata": {},
          "execution_count": 69
        }
      ],
      "source": [
        "categorical_cols"
      ]
    },
    {
      "cell_type": "code",
      "execution_count": null,
      "metadata": {
        "id": "ju4JbND8I5tf"
      },
      "outputs": [],
      "source": [
        "# Categorical boolean mask for test data set\n",
        "\n",
        "p_categorical_cols = df_test.columns[:3].tolist()"
      ]
    },
    {
      "cell_type": "code",
      "execution_count": null,
      "metadata": {
        "id": "WdzBMmRGI5tf",
        "outputId": "ccad541c-d4eb-4f58-ae30-cdf0db704385"
      },
      "outputs": [
        {
          "data": {
            "text/plain": [
              "['Restaurant', 'Location', 'Cuisines']"
            ]
          },
          "execution_count": 87,
          "metadata": {},
          "output_type": "execute_result"
        }
      ],
      "source": [
        "p_categorical_cols"
      ]
    },
    {
      "cell_type": "code",
      "execution_count": null,
      "metadata": {
        "id": "iED2iWOpI5tf"
      },
      "outputs": [],
      "source": [
        "# import labelencoder\n",
        "from sklearn.preprocessing import LabelEncoder\n",
        "# instantiate labelencoder object\n",
        "le = LabelEncoder()"
      ]
    },
    {
      "cell_type": "code",
      "execution_count": null,
      "metadata": {
        "id": "T8LD6AN8I5tf",
        "outputId": "c38717ce-0884-4819-c640-341e0e462f1f"
      },
      "outputs": [
        {
          "data": {
            "text/html": [
              "<div>\n",
              "<style scoped>\n",
              "    .dataframe tbody tr th:only-of-type {\n",
              "        vertical-align: middle;\n",
              "    }\n",
              "\n",
              "    .dataframe tbody tr th {\n",
              "        vertical-align: top;\n",
              "    }\n",
              "\n",
              "    .dataframe thead th {\n",
              "        text-align: right;\n",
              "    }\n",
              "</style>\n",
              "<table border=\"1\" class=\"dataframe\">\n",
              "  <thead>\n",
              "    <tr style=\"text-align: right;\">\n",
              "      <th></th>\n",
              "      <th>Restaurant</th>\n",
              "      <th>Location</th>\n",
              "      <th>Cuisines</th>\n",
              "    </tr>\n",
              "  </thead>\n",
              "  <tbody>\n",
              "    <tr>\n",
              "      <td>0</td>\n",
              "      <td>5086</td>\n",
              "      <td>10</td>\n",
              "      <td>995</td>\n",
              "    </tr>\n",
              "    <tr>\n",
              "      <td>1</td>\n",
              "      <td>1785</td>\n",
              "      <td>30</td>\n",
              "      <td>1116</td>\n",
              "    </tr>\n",
              "    <tr>\n",
              "      <td>2</td>\n",
              "      <td>571</td>\n",
              "      <td>19</td>\n",
              "      <td>1182</td>\n",
              "    </tr>\n",
              "    <tr>\n",
              "      <td>3</td>\n",
              "      <td>4708</td>\n",
              "      <td>28</td>\n",
              "      <td>1398</td>\n",
              "    </tr>\n",
              "    <tr>\n",
              "      <td>4</td>\n",
              "      <td>4896</td>\n",
              "      <td>26</td>\n",
              "      <td>388</td>\n",
              "    </tr>\n",
              "    <tr>\n",
              "      <td>...</td>\n",
              "      <td>...</td>\n",
              "      <td>...</td>\n",
              "      <td>...</td>\n",
              "    </tr>\n",
              "    <tr>\n",
              "      <td>11089</td>\n",
              "      <td>6772</td>\n",
              "      <td>0</td>\n",
              "      <td>2166</td>\n",
              "    </tr>\n",
              "    <tr>\n",
              "      <td>11090</td>\n",
              "      <td>3461</td>\n",
              "      <td>29</td>\n",
              "      <td>860</td>\n",
              "    </tr>\n",
              "    <tr>\n",
              "      <td>11091</td>\n",
              "      <td>2273</td>\n",
              "      <td>16</td>\n",
              "      <td>2036</td>\n",
              "    </tr>\n",
              "    <tr>\n",
              "      <td>11092</td>\n",
              "      <td>2970</td>\n",
              "      <td>30</td>\n",
              "      <td>1412</td>\n",
              "    </tr>\n",
              "    <tr>\n",
              "      <td>11093</td>\n",
              "      <td>3265</td>\n",
              "      <td>31</td>\n",
              "      <td>1412</td>\n",
              "    </tr>\n",
              "  </tbody>\n",
              "</table>\n",
              "<p>11093 rows × 3 columns</p>\n",
              "</div>"
            ],
            "text/plain": [
              "       Restaurant  Location  Cuisines\n",
              "0            5086        10       995\n",
              "1            1785        30      1116\n",
              "2             571        19      1182\n",
              "3            4708        28      1398\n",
              "4            4896        26       388\n",
              "...           ...       ...       ...\n",
              "11089        6772         0      2166\n",
              "11090        3461        29       860\n",
              "11091        2273        16      2036\n",
              "11092        2970        30      1412\n",
              "11093        3265        31      1412\n",
              "\n",
              "[11093 rows x 3 columns]"
            ]
          },
          "execution_count": 89,
          "metadata": {},
          "output_type": "execute_result"
        }
      ],
      "source": [
        "# apply le on categorical feature columns\n",
        "df_train[categorical_cols] = df_train[categorical_cols].apply(lambda col: le.fit_transform(col))\n",
        "df_train[categorical_cols]"
      ]
    },
    {
      "cell_type": "code",
      "execution_count": null,
      "metadata": {
        "colab": {
          "base_uri": "https://localhost:8080/",
          "height": 423
        },
        "id": "vLy4ZC3FI5tf",
        "outputId": "ac6b6261-8a65-4819-eaa8-57647044a2a7"
      },
      "outputs": [
        {
          "output_type": "execute_result",
          "data": {
            "text/plain": [
              "      Restaurant  Location  Cuisines\n",
              "0            580        17       586\n",
              "1           1959        17       104\n",
              "2           1123        28       326\n",
              "3           1404         1       517\n",
              "4            706        28       215\n",
              "...          ...       ...       ...\n",
              "2769        1682         8       338\n",
              "2770        2321        17       296\n",
              "2771        1905        22        14\n",
              "2772         453         4        37\n",
              "2773         195         9       464\n",
              "\n",
              "[2774 rows x 3 columns]"
            ],
            "text/html": [
              "\n",
              "  <div id=\"df-e317a4e7-eed0-4db6-840f-f2da9a82a3fc\">\n",
              "    <div class=\"colab-df-container\">\n",
              "      <div>\n",
              "<style scoped>\n",
              "    .dataframe tbody tr th:only-of-type {\n",
              "        vertical-align: middle;\n",
              "    }\n",
              "\n",
              "    .dataframe tbody tr th {\n",
              "        vertical-align: top;\n",
              "    }\n",
              "\n",
              "    .dataframe thead th {\n",
              "        text-align: right;\n",
              "    }\n",
              "</style>\n",
              "<table border=\"1\" class=\"dataframe\">\n",
              "  <thead>\n",
              "    <tr style=\"text-align: right;\">\n",
              "      <th></th>\n",
              "      <th>Restaurant</th>\n",
              "      <th>Location</th>\n",
              "      <th>Cuisines</th>\n",
              "    </tr>\n",
              "  </thead>\n",
              "  <tbody>\n",
              "    <tr>\n",
              "      <th>0</th>\n",
              "      <td>580</td>\n",
              "      <td>17</td>\n",
              "      <td>586</td>\n",
              "    </tr>\n",
              "    <tr>\n",
              "      <th>1</th>\n",
              "      <td>1959</td>\n",
              "      <td>17</td>\n",
              "      <td>104</td>\n",
              "    </tr>\n",
              "    <tr>\n",
              "      <th>2</th>\n",
              "      <td>1123</td>\n",
              "      <td>28</td>\n",
              "      <td>326</td>\n",
              "    </tr>\n",
              "    <tr>\n",
              "      <th>3</th>\n",
              "      <td>1404</td>\n",
              "      <td>1</td>\n",
              "      <td>517</td>\n",
              "    </tr>\n",
              "    <tr>\n",
              "      <th>4</th>\n",
              "      <td>706</td>\n",
              "      <td>28</td>\n",
              "      <td>215</td>\n",
              "    </tr>\n",
              "    <tr>\n",
              "      <th>...</th>\n",
              "      <td>...</td>\n",
              "      <td>...</td>\n",
              "      <td>...</td>\n",
              "    </tr>\n",
              "    <tr>\n",
              "      <th>2769</th>\n",
              "      <td>1682</td>\n",
              "      <td>8</td>\n",
              "      <td>338</td>\n",
              "    </tr>\n",
              "    <tr>\n",
              "      <th>2770</th>\n",
              "      <td>2321</td>\n",
              "      <td>17</td>\n",
              "      <td>296</td>\n",
              "    </tr>\n",
              "    <tr>\n",
              "      <th>2771</th>\n",
              "      <td>1905</td>\n",
              "      <td>22</td>\n",
              "      <td>14</td>\n",
              "    </tr>\n",
              "    <tr>\n",
              "      <th>2772</th>\n",
              "      <td>453</td>\n",
              "      <td>4</td>\n",
              "      <td>37</td>\n",
              "    </tr>\n",
              "    <tr>\n",
              "      <th>2773</th>\n",
              "      <td>195</td>\n",
              "      <td>9</td>\n",
              "      <td>464</td>\n",
              "    </tr>\n",
              "  </tbody>\n",
              "</table>\n",
              "<p>2774 rows × 3 columns</p>\n",
              "</div>\n",
              "      <button class=\"colab-df-convert\" onclick=\"convertToInteractive('df-e317a4e7-eed0-4db6-840f-f2da9a82a3fc')\"\n",
              "              title=\"Convert this dataframe to an interactive table.\"\n",
              "              style=\"display:none;\">\n",
              "        \n",
              "  <svg xmlns=\"http://www.w3.org/2000/svg\" height=\"24px\"viewBox=\"0 0 24 24\"\n",
              "       width=\"24px\">\n",
              "    <path d=\"M0 0h24v24H0V0z\" fill=\"none\"/>\n",
              "    <path d=\"M18.56 5.44l.94 2.06.94-2.06 2.06-.94-2.06-.94-.94-2.06-.94 2.06-2.06.94zm-11 1L8.5 8.5l.94-2.06 2.06-.94-2.06-.94L8.5 2.5l-.94 2.06-2.06.94zm10 10l.94 2.06.94-2.06 2.06-.94-2.06-.94-.94-2.06-.94 2.06-2.06.94z\"/><path d=\"M17.41 7.96l-1.37-1.37c-.4-.4-.92-.59-1.43-.59-.52 0-1.04.2-1.43.59L10.3 9.45l-7.72 7.72c-.78.78-.78 2.05 0 2.83L4 21.41c.39.39.9.59 1.41.59.51 0 1.02-.2 1.41-.59l7.78-7.78 2.81-2.81c.8-.78.8-2.07 0-2.86zM5.41 20L4 18.59l7.72-7.72 1.47 1.35L5.41 20z\"/>\n",
              "  </svg>\n",
              "      </button>\n",
              "      \n",
              "  <style>\n",
              "    .colab-df-container {\n",
              "      display:flex;\n",
              "      flex-wrap:wrap;\n",
              "      gap: 12px;\n",
              "    }\n",
              "\n",
              "    .colab-df-convert {\n",
              "      background-color: #E8F0FE;\n",
              "      border: none;\n",
              "      border-radius: 50%;\n",
              "      cursor: pointer;\n",
              "      display: none;\n",
              "      fill: #1967D2;\n",
              "      height: 32px;\n",
              "      padding: 0 0 0 0;\n",
              "      width: 32px;\n",
              "    }\n",
              "\n",
              "    .colab-df-convert:hover {\n",
              "      background-color: #E2EBFA;\n",
              "      box-shadow: 0px 1px 2px rgba(60, 64, 67, 0.3), 0px 1px 3px 1px rgba(60, 64, 67, 0.15);\n",
              "      fill: #174EA6;\n",
              "    }\n",
              "\n",
              "    [theme=dark] .colab-df-convert {\n",
              "      background-color: #3B4455;\n",
              "      fill: #D2E3FC;\n",
              "    }\n",
              "\n",
              "    [theme=dark] .colab-df-convert:hover {\n",
              "      background-color: #434B5C;\n",
              "      box-shadow: 0px 1px 3px 1px rgba(0, 0, 0, 0.15);\n",
              "      filter: drop-shadow(0px 1px 2px rgba(0, 0, 0, 0.3));\n",
              "      fill: #FFFFFF;\n",
              "    }\n",
              "  </style>\n",
              "\n",
              "      <script>\n",
              "        const buttonEl =\n",
              "          document.querySelector('#df-e317a4e7-eed0-4db6-840f-f2da9a82a3fc button.colab-df-convert');\n",
              "        buttonEl.style.display =\n",
              "          google.colab.kernel.accessAllowed ? 'block' : 'none';\n",
              "\n",
              "        async function convertToInteractive(key) {\n",
              "          const element = document.querySelector('#df-e317a4e7-eed0-4db6-840f-f2da9a82a3fc');\n",
              "          const dataTable =\n",
              "            await google.colab.kernel.invokeFunction('convertToInteractive',\n",
              "                                                     [key], {});\n",
              "          if (!dataTable) return;\n",
              "\n",
              "          const docLinkHtml = 'Like what you see? Visit the ' +\n",
              "            '<a target=\"_blank\" href=https://colab.research.google.com/notebooks/data_table.ipynb>data table notebook</a>'\n",
              "            + ' to learn more about interactive tables.';\n",
              "          element.innerHTML = '';\n",
              "          dataTable['output_type'] = 'display_data';\n",
              "          await google.colab.output.renderOutput(dataTable, element);\n",
              "          const docLink = document.createElement('div');\n",
              "          docLink.innerHTML = docLinkHtml;\n",
              "          element.appendChild(docLink);\n",
              "        }\n",
              "      </script>\n",
              "    </div>\n",
              "  </div>\n",
              "  "
            ]
          },
          "metadata": {},
          "execution_count": 72
        }
      ],
      "source": [
        "# apply le on categorical feature columns\n",
        "df_test[p_categorical_cols] = df_test[p_categorical_cols].apply(lambda col: le.fit_transform(col))\n",
        "df_test[p_categorical_cols]"
      ]
    },
    {
      "cell_type": "code",
      "execution_count": null,
      "metadata": {
        "id": "jljv9oVII5tg",
        "outputId": "2fe05fb6-0a7b-426e-d675-772c999e7c7f"
      },
      "outputs": [
        {
          "data": {
            "image/png": "[encoded data removed]",
            "text/plain": [
              "<Figure size 1152x1872 with 8 Axes>"
            ]
          },
          "metadata": {
            "needs_background": "light"
          },
          "output_type": "display_data"
        }
      ],
      "source": [
        "# Let us check the distribution graphs for our data\n",
        "plt.figure(figsize=(16,26))\n",
        "c = ['r','Orange','g','y','b','r','k','c','m']\n",
        "for i in np.arange(1,9):\n",
        "    plt.subplot(5,2,i)\n",
        "    sns.distplot(df_train[df_train.columns[i-1]], color=c[i])"
      ]
    },
    {
      "cell_type": "markdown",
      "metadata": {
        "id": "7VUAEoL9I5tg"
      },
      "source": [
        "# Data Insights"
      ]
    },
    {
      "cell_type": "code",
      "execution_count": null,
      "metadata": {
        "id": "lacy6yYSI5tg",
        "outputId": "4d8b514f-a8cb-4b86-b7e0-34fea859c77b"
      },
      "outputs": [
        {
          "data": {
            "text/plain": [
              "(8.0, 0.0)"
            ]
          },
          "execution_count": 109,
          "metadata": {},
          "output_type": "execute_result"
        },
        {
          "data": {
            "image/png": "[encoded data removed]",
            "text/plain": [
              "<Figure size 1152x720 with 2 Axes>"
            ]
          },
          "metadata": {
            "needs_background": "light"
          },
          "output_type": "display_data"
        }
      ],
      "source": [
        "# Correlation between the data columns in training data\n",
        "plt.figure(figsize=(16,10))\n",
        "ax = sns.heatmap(df_train.corr(), annot=True, cmap='coolwarm')\n",
        "\n",
        "bottom, top = ax.get_ylim()\n",
        "ax.set_ylim(bottom + 0.5, top - 0.5)"
      ]
    },
    {
      "cell_type": "code",
      "execution_count": null,
      "metadata": {
        "id": "gCZvuqhQI5tg",
        "outputId": "1b4d21fc-b468-44c1-a8ed-4253a0137088"
      },
      "outputs": [
        {
          "data": {
            "text/html": [
              "<div>\n",
              "<style scoped>\n",
              "    .dataframe tbody tr th:only-of-type {\n",
              "        vertical-align: middle;\n",
              "    }\n",
              "\n",
              "    .dataframe tbody tr th {\n",
              "        vertical-align: top;\n",
              "    }\n",
              "\n",
              "    .dataframe thead th {\n",
              "        text-align: right;\n",
              "    }\n",
              "</style>\n",
              "<table border=\"1\" class=\"dataframe\">\n",
              "  <thead>\n",
              "    <tr style=\"text-align: right;\">\n",
              "      <th></th>\n",
              "      <th>Delivery_Time</th>\n",
              "    </tr>\n",
              "  </thead>\n",
              "  <tbody>\n",
              "    <tr>\n",
              "      <td>0</td>\n",
              "      <td>120 minutes</td>\n",
              "    </tr>\n",
              "    <tr>\n",
              "      <td>1</td>\n",
              "      <td>20 minutes</td>\n",
              "    </tr>\n",
              "    <tr>\n",
              "      <td>2</td>\n",
              "      <td>20 minutes</td>\n",
              "    </tr>\n",
              "    <tr>\n",
              "      <td>3</td>\n",
              "      <td>65 minutes</td>\n",
              "    </tr>\n",
              "    <tr>\n",
              "      <td>4</td>\n",
              "      <td>45 minutes</td>\n",
              "    </tr>\n",
              "    <tr>\n",
              "      <td>...</td>\n",
              "      <td>...</td>\n",
              "    </tr>\n",
              "    <tr>\n",
              "      <td>2769</td>\n",
              "      <td>80 minutes</td>\n",
              "    </tr>\n",
              "    <tr>\n",
              "      <td>2770</td>\n",
              "      <td>65 minutes</td>\n",
              "    </tr>\n",
              "    <tr>\n",
              "      <td>2771</td>\n",
              "      <td>120 minutes</td>\n",
              "    </tr>\n",
              "    <tr>\n",
              "      <td>2772</td>\n",
              "      <td>120 minutes</td>\n",
              "    </tr>\n",
              "    <tr>\n",
              "      <td>2773</td>\n",
              "      <td>20 minutes</td>\n",
              "    </tr>\n",
              "  </tbody>\n",
              "</table>\n",
              "<p>2774 rows × 1 columns</p>\n",
              "</div>"
            ],
            "text/plain": [
              "     Delivery_Time\n",
              "0      120 minutes\n",
              "1       20 minutes\n",
              "2       20 minutes\n",
              "3       65 minutes\n",
              "4       45 minutes\n",
              "...            ...\n",
              "2769    80 minutes\n",
              "2770    65 minutes\n",
              "2771   120 minutes\n",
              "2772   120 minutes\n",
              "2773    20 minutes\n",
              "\n",
              "[2774 rows x 1 columns]"
            ]
          },
          "execution_count": 111,
          "metadata": {},
          "output_type": "execute_result"
        }
      ],
      "source": [
        "Submission_data = pd.read_excel(\"Sample_Submission.xlsx\")\n",
        "Submission_data"
      ]
    },
    {
      "cell_type": "code",
      "execution_count": null,
      "metadata": {
        "colab": {
          "base_uri": "https://localhost:8080/"
        },
        "id": "_VSFjHfpI5th",
        "outputId": "3b2f0c91-36e4-449d-9c09-fd96da5a51fb"
      },
      "outputs": [
        {
          "output_type": "execute_result",
          "data": {
            "text/plain": [
              "array(['30 minutes', '65 minutes', '45 minutes', '10 minutes',\n",
              "       '20 minutes', '120 minutes', '80 minutes'], dtype=object)"
            ]
          },
          "metadata": {},
          "execution_count": 74
        }
      ],
      "source": [
        "df_train.Delivery_Time.unique()"
      ]
    },
    {
      "cell_type": "code",
      "execution_count": null,
      "metadata": {
        "id": "uLK_IiSnI5th"
      },
      "outputs": [],
      "source": [
        "# Since we need to send our final predictions made on test dataset in excel format\n",
        "# the below function can be used to generate excel file for a given model which can then be submitted\n",
        "# to the hackathon\n",
        "# def generateFinalPredictionFile(model):\n",
        "#     y_test_pred = model.predict(X_to_predict.values)\n",
        "#     y_test_pred_exp = np.exp(y_test_pred)\n",
        "#     print(y_test_pred_exp)\n",
        "#     pd.DataFrame(y_test_pred_exp, columns = ['Price']).to_excel(\"Final_Pred.xlsx\", index = False)"
      ]
    },
    {
      "cell_type": "code",
      "execution_count": null,
      "metadata": {
        "id": "OpzlX4RVI5th"
      },
      "outputs": [],
      "source": [
        "from sklearn.preprocessing import StandardScaler\n",
        "ss = StandardScaler()"
      ]
    },
    {
      "cell_type": "code",
      "execution_count": null,
      "metadata": {
        "colab": {
          "base_uri": "https://localhost:8080/",
          "height": 371
        },
        "id": "zY-lynhJI5th",
        "outputId": "b90e0a59-be0b-46a2-ccb5-7c31e941e2fa"
      },
      "outputs": [
        {
          "output_type": "execute_result",
          "data": {
            "text/plain": [
              "  Restaurant                             Location  \\\n",
              "0    ID_6321  FTI College, Law College Road, Pune   \n",
              "1    ID_2882                 Sector 3, Marathalli   \n",
              "2    ID_1595                       Mumbai Central   \n",
              "3    ID_5929                      Sector 1, Noida   \n",
              "4    ID_6123   Rmz Centennial, I Gate, Whitefield   \n",
              "\n",
              "                                 Cuisines  Average_Cost  Minimum_Order Rating  \\\n",
              "0  Fast Food, Rolls, Burger, Salad, Wraps           200             50    3.5   \n",
              "1                     Ice Cream, Desserts           100             50    3.5   \n",
              "2         Italian, Street Food, Fast Food           150             50    3.6   \n",
              "3          Mughlai, North Indian, Chinese           250             99    3.7   \n",
              "4                         Cafe, Beverages           200             99    3.2   \n",
              "\n",
              "   Votes Reviews Delivery_Time  \n",
              "0     12       4    30 minutes  \n",
              "1     11       4    30 minutes  \n",
              "2     99      30    65 minutes  \n",
              "3    176      95    30 minutes  \n",
              "4    521     235    65 minutes  "
            ],
            "text/html": [
              "\n",
              "  <div id=\"df-507cf4be-44d2-4af0-bde3-cb3d6e271610\">\n",
              "    <div class=\"colab-df-container\">\n",
              "      <div>\n",
              "<style scoped>\n",
              "    .dataframe tbody tr th:only-of-type {\n",
              "        vertical-align: middle;\n",
              "    }\n",
              "\n",
              "    .dataframe tbody tr th {\n",
              "        vertical-align: top;\n",
              "    }\n",
              "\n",
              "    .dataframe thead th {\n",
              "        text-align: right;\n",
              "    }\n",
              "</style>\n",
              "<table border=\"1\" class=\"dataframe\">\n",
              "  <thead>\n",
              "    <tr style=\"text-align: right;\">\n",
              "      <th></th>\n",
              "      <th>Restaurant</th>\n",
              "      <th>Location</th>\n",
              "      <th>Cuisines</th>\n",
              "      <th>Average_Cost</th>\n",
              "      <th>Minimum_Order</th>\n",
              "      <th>Rating</th>\n",
              "      <th>Votes</th>\n",
              "      <th>Reviews</th>\n",
              "      <th>Delivery_Time</th>\n",
              "    </tr>\n",
              "  </thead>\n",
              "  <tbody>\n",
              "    <tr>\n",
              "      <th>0</th>\n",
              "      <td>ID_6321</td>\n",
              "      <td>FTI College, Law College Road, Pune</td>\n",
              "      <td>Fast Food, Rolls, Burger, Salad, Wraps</td>\n",
              "      <td>200</td>\n",
              "      <td>50</td>\n",
              "      <td>3.5</td>\n",
              "      <td>12</td>\n",
              "      <td>4</td>\n",
              "      <td>30 minutes</td>\n",
              "    </tr>\n",
              "    <tr>\n",
              "      <th>1</th>\n",
              "      <td>ID_2882</td>\n",
              "      <td>Sector 3, Marathalli</td>\n",
              "      <td>Ice Cream, Desserts</td>\n",
              "      <td>100</td>\n",
              "      <td>50</td>\n",
              "      <td>3.5</td>\n",
              "      <td>11</td>\n",
              "      <td>4</td>\n",
              "      <td>30 minutes</td>\n",
              "    </tr>\n",
              "    <tr>\n",
              "      <th>2</th>\n",
              "      <td>ID_1595</td>\n",
              "      <td>Mumbai Central</td>\n",
              "      <td>Italian, Street Food, Fast Food</td>\n",
              "      <td>150</td>\n",
              "      <td>50</td>\n",
              "      <td>3.6</td>\n",
              "      <td>99</td>\n",
              "      <td>30</td>\n",
              "      <td>65 minutes</td>\n",
              "    </tr>\n",
              "    <tr>\n",
              "      <th>3</th>\n",
              "      <td>ID_5929</td>\n",
              "      <td>Sector 1, Noida</td>\n",
              "      <td>Mughlai, North Indian, Chinese</td>\n",
              "      <td>250</td>\n",
              "      <td>99</td>\n",
              "      <td>3.7</td>\n",
              "      <td>176</td>\n",
              "      <td>95</td>\n",
              "      <td>30 minutes</td>\n",
              "    </tr>\n",
              "    <tr>\n",
              "      <th>4</th>\n",
              "      <td>ID_6123</td>\n",
              "      <td>Rmz Centennial, I Gate, Whitefield</td>\n",
              "      <td>Cafe, Beverages</td>\n",
              "      <td>200</td>\n",
              "      <td>99</td>\n",
              "      <td>3.2</td>\n",
              "      <td>521</td>\n",
              "      <td>235</td>\n",
              "      <td>65 minutes</td>\n",
              "    </tr>\n",
              "  </tbody>\n",
              "</table>\n",
              "</div>\n",
              "      <button class=\"colab-df-convert\" onclick=\"convertToInteractive('df-507cf4be-44d2-4af0-bde3-cb3d6e271610')\"\n",
              "              title=\"Convert this dataframe to an interactive table.\"\n",
              "              style=\"display:none;\">\n",
              "        \n",
              "  <svg xmlns=\"http://www.w3.org/2000/svg\" height=\"24px\"viewBox=\"0 0 24 24\"\n",
              "       width=\"24px\">\n",
              "    <path d=\"M0 0h24v24H0V0z\" fill=\"none\"/>\n",
              "    <path d=\"M18.56 5.44l.94 2.06.94-2.06 2.06-.94-2.06-.94-.94-2.06-.94 2.06-2.06.94zm-11 1L8.5 8.5l.94-2.06 2.06-.94-2.06-.94L8.5 2.5l-.94 2.06-2.06.94zm10 10l.94 2.06.94-2.06 2.06-.94-2.06-.94-.94-2.06-.94 2.06-2.06.94z\"/><path d=\"M17.41 7.96l-1.37-1.37c-.4-.4-.92-.59-1.43-.59-.52 0-1.04.2-1.43.59L10.3 9.45l-7.72 7.72c-.78.78-.78 2.05 0 2.83L4 21.41c.39.39.9.59 1.41.59.51 0 1.02-.2 1.41-.59l7.78-7.78 2.81-2.81c.8-.78.8-2.07 0-2.86zM5.41 20L4 18.59l7.72-7.72 1.47 1.35L5.41 20z\"/>\n",
              "  </svg>\n",
              "      </button>\n",
              "      \n",
              "  <style>\n",
              "    .colab-df-container {\n",
              "      display:flex;\n",
              "      flex-wrap:wrap;\n",
              "      gap: 12px;\n",
              "    }\n",
              "\n",
              "    .colab-df-convert {\n",
              "      background-color: #E8F0FE;\n",
              "      border: none;\n",
              "      border-radius: 50%;\n",
              "      cursor: pointer;\n",
              "      display: none;\n",
              "      fill: #1967D2;\n",
              "      height: 32px;\n",
              "      padding: 0 0 0 0;\n",
              "      width: 32px;\n",
              "    }\n",
              "\n",
              "    .colab-df-convert:hover {\n",
              "      background-color: #E2EBFA;\n",
              "      box-shadow: 0px 1px 2px rgba(60, 64, 67, 0.3), 0px 1px 3px 1px rgba(60, 64, 67, 0.15);\n",
              "      fill: #174EA6;\n",
              "    }\n",
              "\n",
              "    [theme=dark] .colab-df-convert {\n",
              "      background-color: #3B4455;\n",
              "      fill: #D2E3FC;\n",
              "    }\n",
              "\n",
              "    [theme=dark] .colab-df-convert:hover {\n",
              "      background-color: #434B5C;\n",
              "      box-shadow: 0px 1px 3px 1px rgba(0, 0, 0, 0.15);\n",
              "      filter: drop-shadow(0px 1px 2px rgba(0, 0, 0, 0.3));\n",
              "      fill: #FFFFFF;\n",
              "    }\n",
              "  </style>\n",
              "\n",
              "      <script>\n",
              "        const buttonEl =\n",
              "          document.querySelector('#df-507cf4be-44d2-4af0-bde3-cb3d6e271610 button.colab-df-convert');\n",
              "        buttonEl.style.display =\n",
              "          google.colab.kernel.accessAllowed ? 'block' : 'none';\n",
              "\n",
              "        async function convertToInteractive(key) {\n",
              "          const element = document.querySelector('#df-507cf4be-44d2-4af0-bde3-cb3d6e271610');\n",
              "          const dataTable =\n",
              "            await google.colab.kernel.invokeFunction('convertToInteractive',\n",
              "                                                     [key], {});\n",
              "          if (!dataTable) return;\n",
              "\n",
              "          const docLinkHtml = 'Like what you see? Visit the ' +\n",
              "            '<a target=\"_blank\" href=https://colab.research.google.com/notebooks/data_table.ipynb>data table notebook</a>'\n",
              "            + ' to learn more about interactive tables.';\n",
              "          element.innerHTML = '';\n",
              "          dataTable['output_type'] = 'display_data';\n",
              "          await google.colab.output.renderOutput(dataTable, element);\n",
              "          const docLink = document.createElement('div');\n",
              "          docLink.innerHTML = docLinkHtml;\n",
              "          element.appendChild(docLink);\n",
              "        }\n",
              "      </script>\n",
              "    </div>\n",
              "  </div>\n",
              "  "
            ]
          },
          "metadata": {},
          "execution_count": 77
        }
      ],
      "source": [
        "df_train.head()"
      ]
    },
    {
      "cell_type": "markdown",
      "metadata": {
        "id": "uMuwjwk8I5ti"
      },
      "source": [
        "## Split the Data"
      ]
    },
    {
      "cell_type": "code",
      "execution_count": null,
      "metadata": {
        "colab": {
          "base_uri": "https://localhost:8080/"
        },
        "id": "QmvMn71gI5ti",
        "outputId": "696b1cf3-b500-4b3a-83b3-d883584d02e4"
      },
      "outputs": [
        {
          "output_type": "execute_result",
          "data": {
            "text/plain": [
              "(11093, 8)"
            ]
          },
          "metadata": {},
          "execution_count": 79
        }
      ],
      "source": [
        "#Except the targeted RESPONSE variables we are taking all the variables as inputs \n",
        "X = df_train.drop('Delivery_Time', axis=1)\n",
        "\n",
        "X.shape"
      ]
    },
    {
      "cell_type": "code",
      "execution_count": null,
      "metadata": {
        "colab": {
          "base_uri": "https://localhost:8080/"
        },
        "id": "aR1DmD8iI5ti",
        "outputId": "6f5d2cbc-a8a3-41f4-ac22-3985c99b0260"
      },
      "outputs": [
        {
          "output_type": "execute_result",
          "data": {
            "text/plain": [
              "(11093,)"
            ]
          },
          "metadata": {},
          "execution_count": 80
        }
      ],
      "source": [
        "#Use RESPONSE as label\n",
        "y = df_train['Delivery_Time']\n",
        "\n",
        "y.shape"
      ]
    },
    {
      "cell_type": "code",
      "execution_count": null,
      "metadata": {
        "colab": {
          "base_uri": "https://localhost:8080/"
        },
        "id": "-v0P-iJvI5ti",
        "outputId": "a5feeabb-e7bc-4b55-8dc2-9aa062a6c8fd"
      },
      "outputs": [
        {
          "output_type": "stream",
          "name": "stdout",
          "text": [
            "(7765, 8) (3328, 8) (7765,) (3328,)\n"
          ]
        }
      ],
      "source": [
        "from sklearn.model_selection import train_test_split\n",
        "\n",
        "#Create train and test data set\n",
        "X_train,X_test,y_train,y_test = train_test_split(X,y,test_size=0.30,random_state=29)\n",
        "print(X_train.shape, X_test.shape, y_train.shape, y_test.shape)"
      ]
    },
    {
      "cell_type": "code",
      "source": [
        "from sklearn import linear_model\n",
        "from sklearn import ensemble\n",
        "import statsmodels.formula.api as smf\n",
        "\n",
        "lr =  ensemble.RandomForestRegressor(n_estimators = 100, oob_score = True, n_jobs = -1,random_state =50,max_features = \"sqrt\", min_samples_leaf = 50)\n",
        "#lr = linear_model.LinearRegression()\n",
        "#lr = ensemble.GradientBoostingRegressor()\n",
        "#lr = linear_model.TheilSenRegressor()\n",
        "#lr = linear_model.RANSACRegressor(random_state=50)"
      ],
      "metadata": {
        "id": "T-HOnKTrXMUC"
      },
      "execution_count": null,
      "outputs": []
    }
  ],
  "metadata": {
    "kernelspec": {
      "display_name": "Python 3",
      "language": "python",
      "name": "python3"
    },
    "language_info": {
      "codemirror_mode": {
        "name": "ipython",
        "version": 3
      },
      "file_extension": ".py",
      "mimetype": "text/x-python",
      "name": "python",
      "nbconvert_exporter": "python",
      "pygments_lexer": "ipython3",
      "version": "3.7.3"
    },
    "colab": {
      "provenance": [],
      "include_colab_link": true
    }
  },
  "nbformat": 4,
  "nbformat_minor": 0
}